{
 "cells": [
  {
   "cell_type": "markdown",
   "id": "a4a43428-5e10-4dc6-9ccd-2a4969e6cade",
   "metadata": {},
   "source": [
    "## Import the Libraries"
   ]
  },
  {
   "cell_type": "code",
   "execution_count": 1,
   "id": "2468fd21-fa1e-4a6b-ba55-af10c5bffe2e",
   "metadata": {},
   "outputs": [
    {
     "name": "stderr",
     "output_type": "stream",
     "text": [
      "D:\\anaconda3\\envs\\gpuenv\\lib\\site-packages\\tqdm\\auto.py:21: TqdmWarning: IProgress not found. Please update jupyter and ipywidgets. See https://ipywidgets.readthedocs.io/en/stable/user_install.html\n",
      "  from .autonotebook import tqdm as notebook_tqdm\n",
      "[nltk_data] Downloading package punkt to\n",
      "[nltk_data]     C:\\Users\\Yoga\\AppData\\Roaming\\nltk_data...\n",
      "[nltk_data]   Package punkt is already up-to-date!\n"
     ]
    },
    {
     "data": {
      "text/plain": [
       "True"
      ]
     },
     "execution_count": 1,
     "metadata": {},
     "output_type": "execute_result"
    }
   ],
   "source": [
    "import os\n",
    "import re\n",
    "import torch\n",
    "import random\n",
    "import difflib\n",
    "import textwrap\n",
    "import evaluate\n",
    "import numpy as np \n",
    "import pandas as pd\n",
    "import seaborn as sns \n",
    "import scipy.stats as stats\n",
    "import matplotlib.pyplot as plt\n",
    "from tqdm import tqdm\n",
    "from evaluate import load\n",
    "from bert_score import score\n",
    "from collections import Counter\n",
    "from rouge_score import rouge_scorer\n",
    "from evaluate import load as load_metric\n",
    "from IPython.display import display, HTML\n",
    "from datasets import load_dataset, Dataset\n",
    "from sklearn.model_selection import train_test_split\n",
    "from transformers import T5Tokenizer, T5ForConditionalGeneration, DataCollatorForSeq2Seq, TrainingArguments, Trainer, TrainerCallback, AutoTokenizer, AutoModelForSeq2SeqLM, EarlyStoppingCallback\n",
    "\n",
    "import nltk\n",
    "nltk.download('punkt')"
   ]
  },
  {
   "cell_type": "code",
   "execution_count": 2,
   "id": "5f8e7399-16fc-41c9-982c-04bddd7bd1d7",
   "metadata": {},
   "outputs": [
    {
     "name": "stdout",
     "output_type": "stream",
     "text": [
      "Using device: cuda\n"
     ]
    }
   ],
   "source": [
    "# Set device to GPU\n",
    "device = torch.device(\"cuda\" if torch.cuda.is_available() else \"cpu\")\n",
    "print(\"Using device:\", device)"
   ]
  },
  {
   "attachments": {},
   "cell_type": "markdown",
   "id": "32d16c8c-c39c-472d-be6f-c7fd7a5847b8",
   "metadata": {},
   "source": [
    "## Data Preparation"
   ]
  },
  {
   "cell_type": "code",
   "execution_count": 47,
   "id": "f69ceab8-a352-40b4-b066-c6603609a41a",
   "metadata": {},
   "outputs": [
    {
     "data": {
      "text/html": [
       "<div>\n",
       "<style scoped>\n",
       "    .dataframe tbody tr th:only-of-type {\n",
       "        vertical-align: middle;\n",
       "    }\n",
       "\n",
       "    .dataframe tbody tr th {\n",
       "        vertical-align: top;\n",
       "    }\n",
       "\n",
       "    .dataframe thead th {\n",
       "        text-align: right;\n",
       "    }\n",
       "</style>\n",
       "<table border=\"1\" class=\"dataframe\">\n",
       "  <thead>\n",
       "    <tr style=\"text-align: right;\">\n",
       "      <th></th>\n",
       "      <th>Name</th>\n",
       "      <th>Position</th>\n",
       "      <th>Age</th>\n",
       "      <th>ca</th>\n",
       "      <th>pa</th>\n",
       "      <th>Nationality</th>\n",
       "      <th>Club</th>\n",
       "      <th>Corners</th>\n",
       "      <th>Crossing</th>\n",
       "      <th>Dribbling</th>\n",
       "      <th>...</th>\n",
       "      <th>World reputation</th>\n",
       "      <th>Race</th>\n",
       "      <th>RCA</th>\n",
       "      <th>Colour of skin</th>\n",
       "      <th>Date of birth</th>\n",
       "      <th>Number of national team appearances</th>\n",
       "      <th>Goals scored for the national team</th>\n",
       "      <th>Salary</th>\n",
       "      <th>Rental club</th>\n",
       "      <th>UID</th>\n",
       "    </tr>\n",
       "  </thead>\n",
       "  <tbody>\n",
       "    <tr>\n",
       "      <th>1</th>\n",
       "      <td>Kevin De Bruyne</td>\n",
       "      <td>M/AM RLC</td>\n",
       "      <td>31</td>\n",
       "      <td>189</td>\n",
       "      <td>189</td>\n",
       "      <td>Belgium</td>\n",
       "      <td>Manchester City</td>\n",
       "      <td>14</td>\n",
       "      <td>19</td>\n",
       "      <td>15</td>\n",
       "      <td>...</td>\n",
       "      <td>9400</td>\n",
       "      <td>Northern_European</td>\n",
       "      <td>181</td>\n",
       "      <td>4</td>\n",
       "      <td>1991/6/28</td>\n",
       "      <td>91</td>\n",
       "      <td>24</td>\n",
       "      <td>394372.0</td>\n",
       "      <td>NaN</td>\n",
       "      <td>18004457</td>\n",
       "    </tr>\n",
       "    <tr>\n",
       "      <th>2</th>\n",
       "      <td>Kylian Mbappé</td>\n",
       "      <td>AM/S RL</td>\n",
       "      <td>23</td>\n",
       "      <td>188</td>\n",
       "      <td>197</td>\n",
       "      <td>France</td>\n",
       "      <td>Paris Saint-Germain</td>\n",
       "      <td>13</td>\n",
       "      <td>13</td>\n",
       "      <td>18</td>\n",
       "      <td>...</td>\n",
       "      <td>9248</td>\n",
       "      <td>African_Caribbean</td>\n",
       "      <td>172</td>\n",
       "      <td>13</td>\n",
       "      <td>1998/12/20</td>\n",
       "      <td>57</td>\n",
       "      <td>27</td>\n",
       "      <td>1035616.0</td>\n",
       "      <td>NaN</td>\n",
       "      <td>85139014</td>\n",
       "    </tr>\n",
       "    <tr>\n",
       "      <th>3</th>\n",
       "      <td>Robert Lewandowski</td>\n",
       "      <td>S</td>\n",
       "      <td>33</td>\n",
       "      <td>186</td>\n",
       "      <td>190</td>\n",
       "      <td>Poland</td>\n",
       "      <td>Barcelona</td>\n",
       "      <td>3</td>\n",
       "      <td>8</td>\n",
       "      <td>13</td>\n",
       "      <td>...</td>\n",
       "      <td>9250</td>\n",
       "      <td>Northern_European</td>\n",
       "      <td>183</td>\n",
       "      <td>3</td>\n",
       "      <td>1988/8/21</td>\n",
       "      <td>132</td>\n",
       "      <td>76</td>\n",
       "      <td>345204.0</td>\n",
       "      <td>NaN</td>\n",
       "      <td>719601</td>\n",
       "    </tr>\n",
       "    <tr>\n",
       "      <th>4</th>\n",
       "      <td>Erling Haaland</td>\n",
       "      <td>S</td>\n",
       "      <td>22</td>\n",
       "      <td>185</td>\n",
       "      <td>195</td>\n",
       "      <td>Norway,England</td>\n",
       "      <td>Manchester City</td>\n",
       "      <td>7</td>\n",
       "      <td>10</td>\n",
       "      <td>14</td>\n",
       "      <td>...</td>\n",
       "      <td>8750</td>\n",
       "      <td>Northern_European</td>\n",
       "      <td>185</td>\n",
       "      <td>2</td>\n",
       "      <td>2000/7/21</td>\n",
       "      <td>21</td>\n",
       "      <td>20</td>\n",
       "      <td>394372.0</td>\n",
       "      <td>NaN</td>\n",
       "      <td>29179241</td>\n",
       "    </tr>\n",
       "    <tr>\n",
       "      <th>5</th>\n",
       "      <td>Mohamed Salah</td>\n",
       "      <td>AM/S RL</td>\n",
       "      <td>30</td>\n",
       "      <td>185</td>\n",
       "      <td>187</td>\n",
       "      <td>Egypt</td>\n",
       "      <td>Liverpool</td>\n",
       "      <td>12</td>\n",
       "      <td>14</td>\n",
       "      <td>17</td>\n",
       "      <td>...</td>\n",
       "      <td>8750</td>\n",
       "      <td>North_African__Middle_Eastern</td>\n",
       "      <td>181</td>\n",
       "      <td>9</td>\n",
       "      <td>1992/6/15</td>\n",
       "      <td>85</td>\n",
       "      <td>47</td>\n",
       "      <td>405971.0</td>\n",
       "      <td>NaN</td>\n",
       "      <td>98028755</td>\n",
       "    </tr>\n",
       "  </tbody>\n",
       "</table>\n",
       "<p>5 rows × 98 columns</p>\n",
       "</div>"
      ],
      "text/plain": [
       "                 Name  Position  Age   ca   pa     Nationality  \\\n",
       "1     Kevin De Bruyne  M/AM RLC   31  189  189         Belgium   \n",
       "2       Kylian Mbappé   AM/S RL   23  188  197          France   \n",
       "3  Robert Lewandowski         S   33  186  190          Poland   \n",
       "4      Erling Haaland         S   22  185  195  Norway,England   \n",
       "5       Mohamed Salah   AM/S RL   30  185  187           Egypt   \n",
       "\n",
       "                  Club  Corners  Crossing  Dribbling  ...  World reputation  \\\n",
       "1      Manchester City       14        19         15  ...              9400   \n",
       "2  Paris Saint-Germain       13        13         18  ...              9248   \n",
       "3            Barcelona        3         8         13  ...              9250   \n",
       "4      Manchester City        7        10         14  ...              8750   \n",
       "5            Liverpool       12        14         17  ...              8750   \n",
       "\n",
       "                            Race  RCA  Colour of skin  Date of birth  \\\n",
       "1              Northern_European  181               4      1991/6/28   \n",
       "2              African_Caribbean  172              13     1998/12/20   \n",
       "3              Northern_European  183               3      1988/8/21   \n",
       "4              Northern_European  185               2      2000/7/21   \n",
       "5  North_African__Middle_Eastern  181               9      1992/6/15   \n",
       "\n",
       "   Number of national team appearances  Goals scored for the national team  \\\n",
       "1                                   91                                  24   \n",
       "2                                   57                                  27   \n",
       "3                                  132                                  76   \n",
       "4                                   21                                  20   \n",
       "5                                   85                                  47   \n",
       "\n",
       "      Salary  Rental club       UID  \n",
       "1   394372.0          NaN  18004457  \n",
       "2  1035616.0          NaN  85139014  \n",
       "3   345204.0          NaN    719601  \n",
       "4   394372.0          NaN  29179241  \n",
       "5   405971.0          NaN  98028755  \n",
       "\n",
       "[5 rows x 98 columns]"
      ]
     },
     "execution_count": 47,
     "metadata": {},
     "output_type": "execute_result"
    }
   ],
   "source": [
    "# Load the dataset\n",
    "df = pd.read_csv(\"FM2023.csv\")\n",
    "df.index = df.index + 1\n",
    "df.head()"
   ]
  },
  {
   "cell_type": "code",
   "execution_count": 48,
   "id": "3f18454a-7561-4e57-873b-3fb975d34b70",
   "metadata": {},
   "outputs": [
    {
     "data": {
      "text/plain": [
       "(8452, 98)"
      ]
     },
     "execution_count": 48,
     "metadata": {},
     "output_type": "execute_result"
    }
   ],
   "source": [
    "# Check the shape of the data\n",
    "df.shape"
   ]
  },
  {
   "cell_type": "code",
   "execution_count": 49,
   "id": "dbea12cc-54c9-4efe-b956-d661182eac63",
   "metadata": {},
   "outputs": [
    {
     "data": {
      "text/plain": [
       "Index(['Name', 'Position', 'Age', 'ca', 'pa', 'Nationality', 'Club', 'Corners',\n",
       "       'Crossing', 'Dribbling', 'Finishing', 'First Touch', 'Free Kick Taking',\n",
       "       'Heading', 'Long Shots', 'Long Throws', 'Marking', 'Passing',\n",
       "       'Penalty Taking', 'Tackling', 'Technique', 'Aggressiion',\n",
       "       'Anticipation', 'Bravery', 'Composure', 'Concentration', 'Vision',\n",
       "       'Decision', 'Determination', 'Flair', 'Leadership', 'Off The Ball',\n",
       "       'Position.1', 'Teamwork', 'Work Rate', 'Acceleration', 'Agility',\n",
       "       'Balance', 'Jumping Reach', 'Natural Fitness', 'Pace', 'Stamina',\n",
       "       'Strength', 'Stability', 'Foul', 'Contest performance', 'Injury',\n",
       "       'diversity', 'Aerial Reach', 'Command Of Area', 'Communication',\n",
       "       'Eccentricity', 'Handling', 'Kicking', 'One On Ones', 'Reflexes',\n",
       "       'Rushing Out', 'Punching', 'Throwing', 'Adaptation', 'Ambition',\n",
       "       'Argue', 'Loyal', 'Resistant to stress', 'Professional',\n",
       "       'Sportsmanship', 'Emotional control', 'GK', 'DL', 'DC', 'DR', 'WBL',\n",
       "       'WBR', 'DM', 'ML', 'MC', 'MR', 'AML', 'AMC', 'AMR', 'ST', 'Height',\n",
       "       'Weight', 'Left Foot', 'Right Foot', 'Values', 'Current reputation',\n",
       "       'Domestic reputation', 'World reputation', 'Race', 'RCA',\n",
       "       'Colour of skin', 'Date of birth',\n",
       "       'Number of national team appearances',\n",
       "       'Goals scored for the national team', 'Salary', 'Rental club', 'UID'],\n",
       "      dtype='object')"
      ]
     },
     "execution_count": 49,
     "metadata": {},
     "output_type": "execute_result"
    }
   ],
   "source": [
    "# Check all columns\n",
    "df.columns"
   ]
  },
  {
   "cell_type": "markdown",
   "id": "2ae21fc7-980e-4e56-befd-30cf329db97f",
   "metadata": {},
   "source": [
    "### Choose the Columns"
   ]
  },
  {
   "cell_type": "code",
   "execution_count": 50,
   "id": "90223239-304d-4572-94b7-c1471e941187",
   "metadata": {},
   "outputs": [
    {
     "data": {
      "text/html": [
       "<div>\n",
       "<style scoped>\n",
       "    .dataframe tbody tr th:only-of-type {\n",
       "        vertical-align: middle;\n",
       "    }\n",
       "\n",
       "    .dataframe tbody tr th {\n",
       "        vertical-align: top;\n",
       "    }\n",
       "\n",
       "    .dataframe thead th {\n",
       "        text-align: right;\n",
       "    }\n",
       "</style>\n",
       "<table border=\"1\" class=\"dataframe\">\n",
       "  <thead>\n",
       "    <tr style=\"text-align: right;\">\n",
       "      <th></th>\n",
       "      <th>Name</th>\n",
       "      <th>Position</th>\n",
       "      <th>Age</th>\n",
       "      <th>ca</th>\n",
       "      <th>pa</th>\n",
       "      <th>Corners</th>\n",
       "      <th>Crossing</th>\n",
       "      <th>Dribbling</th>\n",
       "      <th>Finishing</th>\n",
       "      <th>First Touch</th>\n",
       "      <th>...</th>\n",
       "      <th>WBL</th>\n",
       "      <th>WBR</th>\n",
       "      <th>DM</th>\n",
       "      <th>ML</th>\n",
       "      <th>MC</th>\n",
       "      <th>MR</th>\n",
       "      <th>AML</th>\n",
       "      <th>AMC</th>\n",
       "      <th>AMR</th>\n",
       "      <th>ST</th>\n",
       "    </tr>\n",
       "  </thead>\n",
       "  <tbody>\n",
       "    <tr>\n",
       "      <th>1</th>\n",
       "      <td>Kevin De Bruyne</td>\n",
       "      <td>M/AM RLC</td>\n",
       "      <td>31</td>\n",
       "      <td>189</td>\n",
       "      <td>189</td>\n",
       "      <td>14</td>\n",
       "      <td>19</td>\n",
       "      <td>15</td>\n",
       "      <td>16</td>\n",
       "      <td>16</td>\n",
       "      <td>...</td>\n",
       "      <td>1</td>\n",
       "      <td>1</td>\n",
       "      <td>12</td>\n",
       "      <td>15</td>\n",
       "      <td>20</td>\n",
       "      <td>15</td>\n",
       "      <td>14</td>\n",
       "      <td>20</td>\n",
       "      <td>14</td>\n",
       "      <td>12</td>\n",
       "    </tr>\n",
       "    <tr>\n",
       "      <th>2</th>\n",
       "      <td>Kylian Mbappé</td>\n",
       "      <td>AM/S RL</td>\n",
       "      <td>23</td>\n",
       "      <td>188</td>\n",
       "      <td>197</td>\n",
       "      <td>13</td>\n",
       "      <td>13</td>\n",
       "      <td>18</td>\n",
       "      <td>17</td>\n",
       "      <td>18</td>\n",
       "      <td>...</td>\n",
       "      <td>1</td>\n",
       "      <td>1</td>\n",
       "      <td>1</td>\n",
       "      <td>10</td>\n",
       "      <td>1</td>\n",
       "      <td>10</td>\n",
       "      <td>19</td>\n",
       "      <td>1</td>\n",
       "      <td>17</td>\n",
       "      <td>20</td>\n",
       "    </tr>\n",
       "    <tr>\n",
       "      <th>3</th>\n",
       "      <td>Robert Lewandowski</td>\n",
       "      <td>S</td>\n",
       "      <td>33</td>\n",
       "      <td>186</td>\n",
       "      <td>190</td>\n",
       "      <td>3</td>\n",
       "      <td>8</td>\n",
       "      <td>13</td>\n",
       "      <td>19</td>\n",
       "      <td>18</td>\n",
       "      <td>...</td>\n",
       "      <td>1</td>\n",
       "      <td>1</td>\n",
       "      <td>1</td>\n",
       "      <td>1</td>\n",
       "      <td>1</td>\n",
       "      <td>1</td>\n",
       "      <td>10</td>\n",
       "      <td>12</td>\n",
       "      <td>8</td>\n",
       "      <td>20</td>\n",
       "    </tr>\n",
       "    <tr>\n",
       "      <th>4</th>\n",
       "      <td>Erling Haaland</td>\n",
       "      <td>S</td>\n",
       "      <td>22</td>\n",
       "      <td>185</td>\n",
       "      <td>195</td>\n",
       "      <td>7</td>\n",
       "      <td>10</td>\n",
       "      <td>14</td>\n",
       "      <td>18</td>\n",
       "      <td>16</td>\n",
       "      <td>...</td>\n",
       "      <td>1</td>\n",
       "      <td>1</td>\n",
       "      <td>1</td>\n",
       "      <td>1</td>\n",
       "      <td>1</td>\n",
       "      <td>1</td>\n",
       "      <td>1</td>\n",
       "      <td>1</td>\n",
       "      <td>1</td>\n",
       "      <td>20</td>\n",
       "    </tr>\n",
       "    <tr>\n",
       "      <th>5</th>\n",
       "      <td>Mohamed Salah</td>\n",
       "      <td>AM/S RL</td>\n",
       "      <td>30</td>\n",
       "      <td>185</td>\n",
       "      <td>187</td>\n",
       "      <td>12</td>\n",
       "      <td>14</td>\n",
       "      <td>17</td>\n",
       "      <td>17</td>\n",
       "      <td>17</td>\n",
       "      <td>...</td>\n",
       "      <td>1</td>\n",
       "      <td>1</td>\n",
       "      <td>1</td>\n",
       "      <td>1</td>\n",
       "      <td>1</td>\n",
       "      <td>1</td>\n",
       "      <td>17</td>\n",
       "      <td>12</td>\n",
       "      <td>20</td>\n",
       "      <td>19</td>\n",
       "    </tr>\n",
       "  </tbody>\n",
       "</table>\n",
       "<p>5 rows × 79 columns</p>\n",
       "</div>"
      ],
      "text/plain": [
       "                 Name  Position  Age   ca   pa  Corners  Crossing  Dribbling  \\\n",
       "1     Kevin De Bruyne  M/AM RLC   31  189  189       14        19         15   \n",
       "2       Kylian Mbappé   AM/S RL   23  188  197       13        13         18   \n",
       "3  Robert Lewandowski         S   33  186  190        3         8         13   \n",
       "4      Erling Haaland         S   22  185  195        7        10         14   \n",
       "5       Mohamed Salah   AM/S RL   30  185  187       12        14         17   \n",
       "\n",
       "   Finishing  First Touch  ...  WBL  WBR  DM  ML  MC  MR  AML  AMC  AMR  ST  \n",
       "1         16           16  ...    1    1  12  15  20  15   14   20   14  12  \n",
       "2         17           18  ...    1    1   1  10   1  10   19    1   17  20  \n",
       "3         19           18  ...    1    1   1   1   1   1   10   12    8  20  \n",
       "4         18           16  ...    1    1   1   1   1   1    1    1    1  20  \n",
       "5         17           17  ...    1    1   1   1   1   1   17   12   20  19  \n",
       "\n",
       "[5 rows x 79 columns]"
      ]
     },
     "execution_count": 50,
     "metadata": {},
     "output_type": "execute_result"
    }
   ],
   "source": [
    "# Get columns that are needed\n",
    "columns = [\n",
    "    'Name', 'Position', 'Age', 'ca', 'pa', 'Corners',\n",
    "    'Crossing', 'Dribbling', 'Finishing', 'First Touch', 'Free Kick Taking',\n",
    "    'Heading', 'Long Shots', 'Long Throws', 'Marking', 'Passing',\n",
    "    'Penalty Taking', 'Tackling', 'Technique', 'Aggressiion',\n",
    "    'Anticipation', 'Bravery', 'Composure', 'Concentration', 'Vision',\n",
    "    'Decision', 'Determination', 'Flair', 'Leadership', 'Off The Ball',\n",
    "    'Position.1', 'Teamwork', 'Work Rate', 'Acceleration', 'Agility',\n",
    "    'Balance', 'Jumping Reach', 'Natural Fitness', 'Pace', 'Stamina',\n",
    "    'Strength', 'Stability', 'Foul', 'Contest performance', 'Injury',\n",
    "    'diversity', 'Aerial Reach', 'Command Of Area', 'Communication',\n",
    "    'Eccentricity', 'Handling', 'Kicking', 'One On Ones', 'Reflexes',\n",
    "    'Rushing Out', 'Punching', 'Throwing', 'Adaptation', 'Ambition',\n",
    "    'Argue', 'Loyal', 'Resistant to stress', 'Professional',\n",
    "    'Sportsmanship', 'Emotional control', 'GK', 'DL', 'DC', 'DR', 'WBL',\n",
    "    'WBR', 'DM', 'ML', 'MC', 'MR', 'AML', 'AMC', 'AMR', 'ST'\n",
    "]\n",
    "\n",
    "# Create the new DataFrame with only the selected columns\n",
    "df = df[columns]\n",
    "df.head()"
   ]
  },
  {
   "cell_type": "code",
   "execution_count": 51,
   "id": "afeb84fa-57d0-40e8-aeb9-d794166d747e",
   "metadata": {},
   "outputs": [
    {
     "data": {
      "text/plain": [
       "(8452, 79)"
      ]
     },
     "execution_count": 51,
     "metadata": {},
     "output_type": "execute_result"
    }
   ],
   "source": [
    "# Check the updated shape of the data\n",
    "df.shape"
   ]
  },
  {
   "cell_type": "code",
   "execution_count": 52,
   "id": "69cb08f5-3b49-4be9-9a84-3b239acbfad2",
   "metadata": {},
   "outputs": [
    {
     "data": {
      "text/plain": [
       "Index(['Name', 'Position', 'Age', 'ca', 'pa', 'Corners', 'Crossing',\n",
       "       'Dribbling', 'Finishing', 'First Touch', 'Free Kick Taking', 'Heading',\n",
       "       'Long Shots', 'Long Throws', 'Marking', 'Passing', 'Penalty Taking',\n",
       "       'Tackling', 'Technique', 'Aggressiion', 'Anticipation', 'Bravery',\n",
       "       'Composure', 'Concentration', 'Vision', 'Decision', 'Determination',\n",
       "       'Flair', 'Leadership', 'Off The Ball', 'Position.1', 'Teamwork',\n",
       "       'Work Rate', 'Acceleration', 'Agility', 'Balance', 'Jumping Reach',\n",
       "       'Natural Fitness', 'Pace', 'Stamina', 'Strength', 'Stability', 'Foul',\n",
       "       'Contest performance', 'Injury', 'diversity', 'Aerial Reach',\n",
       "       'Command Of Area', 'Communication', 'Eccentricity', 'Handling',\n",
       "       'Kicking', 'One On Ones', 'Reflexes', 'Rushing Out', 'Punching',\n",
       "       'Throwing', 'Adaptation', 'Ambition', 'Argue', 'Loyal',\n",
       "       'Resistant to stress', 'Professional', 'Sportsmanship',\n",
       "       'Emotional control', 'GK', 'DL', 'DC', 'DR', 'WBL', 'WBR', 'DM', 'ML',\n",
       "       'MC', 'MR', 'AML', 'AMC', 'AMR', 'ST'],\n",
       "      dtype='object')"
      ]
     },
     "execution_count": 52,
     "metadata": {},
     "output_type": "execute_result"
    }
   ],
   "source": [
    "# Check the updated columns\n",
    "df.columns"
   ]
  },
  {
   "cell_type": "markdown",
   "id": "e32d346c-e1bf-41ff-b4c7-792b826fec5c",
   "metadata": {},
   "source": [
    "### Negative PA → Positive PA Approximate Mapping\n",
    "| Negative PA | Range (Positive PA) | Approx. (average) |\n",
    "| ----------- | ------------------- | ----------------- |\n",
    "| -95         | 170–200             | **185**           |\n",
    "| -90         | 160–190             | **175**           |\n",
    "| -85         | 150–180             | **165**           |\n",
    "| -80         | 140–170             | **155**           |\n",
    "| -75         | 130–160             | **145**           |\n",
    "| -70         | 120–150             | **135**           |\n",
    "| -65         | 110–140             | **125**           |\n",
    "| -60         | 100–130             | **115**           |\n",
    "| -55         | 90–120              | **105**           |\n",
    "| -50         | 80–110              | **95**            |\n",
    "| -45         | 70–100              | **85**            |\n",
    "| -40         | 60–90               | **75**            |\n",
    "| -35         | 50–80               | **65**            |\n",
    "| -30         | 40–70               | **55**            |\n",
    "| -25         | 30–60               | **45**            |\n",
    "| -20         | 20–50               | **35**            |\n",
    "| -15         | 10–40               | **25**            |\n",
    "| -10         | 1–30                | **15**            |"
   ]
  },
  {
   "cell_type": "code",
   "execution_count": 53,
   "id": "840c751f-e042-4c56-94c4-690246c30c00",
   "metadata": {},
   "outputs": [
    {
     "data": {
      "text/html": [
       "<div>\n",
       "<style scoped>\n",
       "    .dataframe tbody tr th:only-of-type {\n",
       "        vertical-align: middle;\n",
       "    }\n",
       "\n",
       "    .dataframe tbody tr th {\n",
       "        vertical-align: top;\n",
       "    }\n",
       "\n",
       "    .dataframe thead th {\n",
       "        text-align: right;\n",
       "    }\n",
       "</style>\n",
       "<table border=\"1\" class=\"dataframe\">\n",
       "  <thead>\n",
       "    <tr style=\"text-align: right;\">\n",
       "      <th></th>\n",
       "      <th>Name</th>\n",
       "      <th>pa</th>\n",
       "    </tr>\n",
       "  </thead>\n",
       "  <tbody>\n",
       "    <tr>\n",
       "      <th>6809</th>\n",
       "      <td>Noel López</td>\n",
       "      <td>-8</td>\n",
       "    </tr>\n",
       "    <tr>\n",
       "      <th>7291</th>\n",
       "      <td>Isaac Babadi</td>\n",
       "      <td>-85</td>\n",
       "    </tr>\n",
       "    <tr>\n",
       "      <th>7300</th>\n",
       "      <td>Nelson Palacio</td>\n",
       "      <td>-75</td>\n",
       "    </tr>\n",
       "    <tr>\n",
       "      <th>8247</th>\n",
       "      <td>João Conceição</td>\n",
       "      <td>-75</td>\n",
       "    </tr>\n",
       "    <tr>\n",
       "      <th>7946</th>\n",
       "      <td>Martin Georgiev</td>\n",
       "      <td>-75</td>\n",
       "    </tr>\n",
       "    <tr>\n",
       "      <th>7703</th>\n",
       "      <td>Hugo Félix</td>\n",
       "      <td>-75</td>\n",
       "    </tr>\n",
       "    <tr>\n",
       "      <th>8087</th>\n",
       "      <td>Zoumana Diallo</td>\n",
       "      <td>-75</td>\n",
       "    </tr>\n",
       "    <tr>\n",
       "      <th>7237</th>\n",
       "      <td>Fran Pérez</td>\n",
       "      <td>-8</td>\n",
       "    </tr>\n",
       "    <tr>\n",
       "      <th>7699</th>\n",
       "      <td>Tiago Coser</td>\n",
       "      <td>-75</td>\n",
       "    </tr>\n",
       "    <tr>\n",
       "      <th>7329</th>\n",
       "      <td>Harib Abdalla</td>\n",
       "      <td>-75</td>\n",
       "    </tr>\n",
       "  </tbody>\n",
       "</table>\n",
       "</div>"
      ],
      "text/plain": [
       "                 Name  pa\n",
       "6809       Noel López  -8\n",
       "7291     Isaac Babadi -85\n",
       "7300   Nelson Palacio -75\n",
       "8247   João Conceição -75\n",
       "7946  Martin Georgiev -75\n",
       "7703       Hugo Félix -75\n",
       "8087   Zoumana Diallo -75\n",
       "7237       Fran Pérez  -8\n",
       "7699      Tiago Coser -75\n",
       "7329    Harib Abdalla -75"
      ]
     },
     "execution_count": 53,
     "metadata": {},
     "output_type": "execute_result"
    }
   ],
   "source": [
    "# Filter rows where 'pa' is negative\n",
    "negative_pa_df = df[df['pa'] < 0]\n",
    "\n",
    "# Show the first few rows with negative PA values\n",
    "before = negative_pa_df[['Name', 'pa']].sample(10, random_state=42)\n",
    "\n",
    "before"
   ]
  },
  {
   "cell_type": "code",
   "execution_count": 54,
   "id": "d905cd5c-bfe4-4480-811b-f4f0d9320a5d",
   "metadata": {},
   "outputs": [],
   "source": [
    "# Fix incorrectly shortened negative PA values\n",
    "correction_map = {\n",
    "    -1: -10, -2: -20, -3: -30, -4: -40, -5: -50,\n",
    "    -6: -60, -7: -70, -8: -80, -9: -90\n",
    "}\n",
    "\n",
    "df['pa'] = df['pa'].replace(correction_map)"
   ]
  },
  {
   "cell_type": "code",
   "execution_count": 55,
   "id": "e92b1a5d-a77b-4b19-9867-713348c78139",
   "metadata": {},
   "outputs": [],
   "source": [
    "# Convert negative PA values to estimated positive equivalents\n",
    "def convert_pa_to_estimated(pa):\n",
    "    mapping = {\n",
    "        -95: 185, -90: 175, -85: 165, -80: 155, -75: 145,\n",
    "        -70: 135, -65: 125, -60: 115, -55: 105, -50: 95,\n",
    "        -45: 85, -40: 75, -35: 65, -30: 55, -25: 45,\n",
    "        -20: 35, -15: 25, -10: 15\n",
    "    }\n",
    "    return mapping.get(pa, pa)\n",
    "\n",
    "df['pa'] = df['pa'].apply(convert_pa_to_estimated)"
   ]
  },
  {
   "cell_type": "code",
   "execution_count": 56,
   "id": "aa3ced2d-1b36-4031-9108-d5ef10678d05",
   "metadata": {},
   "outputs": [
    {
     "name": "stdout",
     "output_type": "stream",
     "text": [
      "               Name  pa_before  pa_after\n",
      "1        Noel López         -8       155\n",
      "2      Isaac Babadi        -85       165\n",
      "3    Nelson Palacio        -75       145\n",
      "4    João Conceição        -75       145\n",
      "5   Martin Georgiev        -75       145\n",
      "6        Hugo Félix        -75       145\n",
      "7    Zoumana Diallo        -75       145\n",
      "8        Fran Pérez         -8       155\n",
      "9       Tiago Coser        -75       145\n",
      "10    Harib Abdalla        -75       145\n"
     ]
    }
   ],
   "source": [
    "# Match by name to get updated values for the same sample and compare it\n",
    "after = df[df['Name'].isin(before['Name'])][['Name', 'pa']]\n",
    "\n",
    "comparison = before.merge(after, on='Name', suffixes=('_before', '_after'))\n",
    "comparison.index = comparison.index + 1\n",
    "print(comparison)"
   ]
  },
  {
   "attachments": {},
   "cell_type": "markdown",
   "id": "f2798052-f977-4090-80f5-ff7a724667b0",
   "metadata": {},
   "source": [
    "## Attribute Tiering"
   ]
  },
  {
   "cell_type": "markdown",
   "id": "5d5ccde8-823c-4ed9-8404-d5d49a2194ac",
   "metadata": {},
   "source": [
    "### Range of Tier for Player's Age\n",
    "| Age Range | Tier                     |\n",
    "| --------- | ------------------------ |\n",
    "| 15–18     | Youth / Wonderkid        |\n",
    "| 19–21     | Young Talent             |\n",
    "| 22–25     | Developing / Early Prime |\n",
    "| 26–29     | Prime                    |\n",
    "| 30–32     | Veteran / Experienced    |\n",
    "| 33–35     | Aging                    |\n",
    "| 36+       | Near Retirement          |"
   ]
  },
  {
   "cell_type": "code",
   "execution_count": 57,
   "id": "6f5b2be9-3cc6-4277-8f9b-e6394335c3b5",
   "metadata": {},
   "outputs": [],
   "source": [
    "# Tier of a player based on Age\n",
    "def get_tier_age(age: int) -> str:\n",
    "    if pd.isnull(age):\n",
    "        return \"Unknown\"\n",
    "    elif 15 <= age <= 18:\n",
    "        return \"Youth/Wonderkid\"\n",
    "    elif 19 <= age <= 21:\n",
    "        return \"Young Talent\"\n",
    "    elif 22 <= age <= 25:\n",
    "        return \"Developing/Early Prime\"\n",
    "    elif 26 <= age <= 29:\n",
    "        return \"Prime\"\n",
    "    elif 30 <= age <= 32:\n",
    "        return \"Veteran/Experienced\"\n",
    "    elif 33 <= age <= 35:\n",
    "        return \"Aging\"\n",
    "    elif age >= 36:\n",
    "        return \"Near Retirement\"\n",
    "    else:\n",
    "        return \"Unknown\""
   ]
  },
  {
   "cell_type": "code",
   "execution_count": 58,
   "id": "2123756e-2cfa-4d16-9a3b-5f33be2420db",
   "metadata": {},
   "outputs": [
    {
     "name": "stdout",
     "output_type": "stream",
     "text": [
      "Age Tier Test:\n",
      "\n",
      "Rodri (Age 26) → Prime\n",
      "Luka Modrić (Age 36) → Near Retirement\n",
      "Kylian Mbappé (Age 23) → Developing/Early Prime\n"
     ]
    }
   ],
   "source": [
    "# Select 3 sample players\n",
    "sample_rows = df.iloc[[17, 10, 1]]\n",
    "\n",
    "# Test the age tier for each player\n",
    "print(\"Age Tier Test:\\n\")\n",
    "for idx, row in sample_rows.iterrows():\n",
    "    name = row[\"Name\"]\n",
    "    age = row[\"Age\"]\n",
    "    stage = get_tier_age(age)\n",
    "    print(f\"{name} (Age {age}) → {stage}\")"
   ]
  },
  {
   "cell_type": "markdown",
   "id": "a81142dd-1049-4241-a497-9b6eb18128f3",
   "metadata": {},
   "source": [
    "### Range of Tier for Player's Current Rating\n",
    "| CA Range | Tier        |\r\n",
    "| -------- | ----------- |\r\n",
    "| 0–59     | Very Poor   |\r\n",
    "| 60–89    | Poor        |\r\n",
    "| 90–119   | Decent      |\r\n",
    "| 120–139  | Good        |\r\n",
    "| 140–159  | Very Good   |\r\n",
    "| 160–179  | Excellent   |\r\n",
    "| 180–200  | WorlClass |\r\n"
   ]
  },
  {
   "cell_type": "code",
   "execution_count": 59,
   "id": "4c0c4d8c-72b1-4edd-b06a-82054b1c94eb",
   "metadata": {},
   "outputs": [],
   "source": [
    "# Tier of a player based on Current Ability (CA)\n",
    "def get_tier_ca(ca: int) -> str:\n",
    "    if pd.isnull(ca):\n",
    "        return \"Unknown\"\n",
    "    elif ca <= 59:\n",
    "        return \"Very Poor\"\n",
    "    elif ca <= 89:\n",
    "        return \"Poor\"\n",
    "    elif ca <= 119:\n",
    "        return \"Decent\"\n",
    "    elif ca <= 139:\n",
    "        return \"Good\"\n",
    "    elif ca <= 159:\n",
    "        return \"Very Good\"\n",
    "    elif ca <= 179:\n",
    "        return \"Excellent\"\n",
    "    elif ca <= 200:\n",
    "        return \"WorldClass\"\n",
    "    else:\n",
    "        return \"Unknown\""
   ]
  },
  {
   "cell_type": "code",
   "execution_count": 60,
   "id": "7ab6213f-2529-4d2c-8cbd-c058a77d8ca5",
   "metadata": {},
   "outputs": [
    {
     "name": "stdout",
     "output_type": "stream",
     "text": [
      "CA Tier Test:\n",
      "\n",
      "Alisson (CA 177) → Excellent\n",
      "Thibaut Courtois (CA 181) → WorldClass\n",
      "Robert Lewandowski (CA 186) → WorldClass\n"
     ]
    }
   ],
   "source": [
    "# Select 3 sample players\n",
    "sample_rows = df.iloc[[13, 7, 2]] \n",
    "\n",
    "# Test the CA tier for each player\n",
    "print(\"CA Tier Test:\\n\")\n",
    "for idx, row in sample_rows.iterrows():\n",
    "    name = row[\"Name\"]\n",
    "    ca = row[\"ca\"]\n",
    "    ca_tier = get_tier_ca(ca)\n",
    "    print(f\"{name} (CA {ca}) → {ca_tier}\")"
   ]
  },
  {
   "cell_type": "markdown",
   "id": "02af72b1-ec7c-41ed-8697-2f48197c4d80",
   "metadata": {},
   "source": [
    "### Range of Tier for Player's Potential Rating\n",
    "| PA Range | Tier        |\n",
    "| -------- | ----------- |\n",
    "| 0–59     | Very Poor   |\n",
    "| 60–89    | Poor        |\n",
    "| 90–119   | Decent      |\n",
    "| 120–139  | Good        |\n",
    "| 140–159  | Very Good   |\n",
    "| 160–179  | Excellent   |\n",
    "| 180–200  | WorldClass |"
   ]
  },
  {
   "cell_type": "code",
   "execution_count": 61,
   "id": "133078cf-e256-4ebe-876c-5ae17620380e",
   "metadata": {},
   "outputs": [],
   "source": [
    "# Tier of a player based on Potential Ability (PA)\n",
    "def get_tier_pa(pa: int) -> str:\n",
    "    if pd.isnull(pa):\n",
    "        return \"Unknown\"\n",
    "    elif pa <= 59:\n",
    "        return \"Very Poor\"\n",
    "    elif pa <= 89:\n",
    "        return \"Poor\"\n",
    "    elif pa <= 119:\n",
    "        return \"Decent\"\n",
    "    elif pa <= 139:\n",
    "        return \"Good\"\n",
    "    elif pa <= 159:\n",
    "        return \"Very Good\"\n",
    "    elif pa <= 179:\n",
    "        return \"Excellent\"\n",
    "    elif pa <= 200:\n",
    "        return \"WorldClass\"\n",
    "    else:\n",
    "        return \"Unknown\""
   ]
  },
  {
   "cell_type": "code",
   "execution_count": 62,
   "id": "eb3e02b9-afb8-4cdb-b5af-aac402acfbae",
   "metadata": {},
   "outputs": [
    {
     "name": "stdout",
     "output_type": "stream",
     "text": [
      "PA Tier Test:\n",
      "\n",
      "Heung-Min Son (PA 173) → Excellent\n",
      "Youri Tielemans (PA 170) → Excellent\n",
      "Rodrigo Rey (PA 135) → Good\n"
     ]
    }
   ],
   "source": [
    "# Select 3 sample players\n",
    "sample_rows = df.iloc[[21, 212, 2121]] \n",
    "\n",
    "# Test the PA tier for each player\n",
    "print(\"PA Tier Test:\\n\")\n",
    "for idx, row in sample_rows.iterrows():\n",
    "    name = row[\"Name\"]\n",
    "    pa = row[\"pa\"]\n",
    "    pa_tier = get_tier_pa(pa)\n",
    "    print(f\"{name} (PA {pa}) → {pa_tier}\")"
   ]
  },
  {
   "cell_type": "markdown",
   "id": "1ce526dc-4ac5-4dc4-9fea-e81b0f84e049",
   "metadata": {},
   "source": [
    "### Range of Tier for  Player's Attributes\n",
    "| Attribute Value | Color Code        | Tier          |\n",
    "|-----------------|-------------------|---------------|\n",
    "| 1–4             | White / Light Grey| Abysmal       |\n",
    "| 5–7             | Light Yellow      | Very Poor     |\n",
    "| 8–10            | Yellow            | Poor          |\n",
    "| 11–13           | Orange            | Decent        |\n",
    "| 14–15           | Light Green       | Good          |\n",
    "| 16–17           | Green             | Very Good     |\n",
    "| 18–19           | Dark Green        | Excellent     |\n",
    "| 20              | Darkest Green     | World-Class   |"
   ]
  },
  {
   "cell_type": "code",
   "execution_count": 63,
   "id": "a6495c57-25e4-452d-886c-2243855e3342",
   "metadata": {},
   "outputs": [],
   "source": [
    "# Tier of a player based on Attributes\n",
    "def get_tier_attributes(value: int) -> str:\n",
    "    if pd.isnull(value):\n",
    "        return \"Unknown\"\n",
    "    elif value <= 4:\n",
    "        return \"Abysmal\"\n",
    "    elif value <= 7:\n",
    "        return \"Very Poor\"\n",
    "    elif value <= 10:\n",
    "        return \"Poor\"\n",
    "    elif value <= 13:\n",
    "        return \"Decent\"\n",
    "    elif value <= 15:\n",
    "        return \"Good\"\n",
    "    elif value <= 17:\n",
    "        return \"Very Good\"\n",
    "    elif value <= 19:\n",
    "        return \"Excellent\"\n",
    "    elif value == 20:\n",
    "        return \"World-Class\"\n",
    "    else:\n",
    "        return \"Unknown\""
   ]
  },
  {
   "cell_type": "code",
   "execution_count": 64,
   "id": "e2f65857-164f-4091-94f6-0ab4e7992e73",
   "metadata": {},
   "outputs": [
    {
     "name": "stdout",
     "output_type": "stream",
     "text": [
      "Attribute Tier Test:\n",
      "\n",
      "Robert Lewandowski\n",
      "  Finishing: 19 → Excellent\n",
      "  Pace: 14 → Good\n",
      "  Passing: 13 → Decent\n",
      "  Tackling: 7 → Very Poor\n",
      "  Handling: 3 → Abysmal\n",
      "\n",
      "Neymar\n",
      "  Finishing: 16 → Very Good\n",
      "  Pace: 15 → Good\n",
      "  Passing: 17 → Very Good\n",
      "  Tackling: 5 → Very Poor\n",
      "  Handling: 2 → Abysmal\n",
      "\n",
      "Theo Hernández\n",
      "  Finishing: 13 → Decent\n",
      "  Pace: 18 → Excellent\n",
      "  Passing: 13 → Decent\n",
      "  Tackling: 14 → Good\n",
      "  Handling: 1 → Abysmal\n"
     ]
    }
   ],
   "source": [
    "# Select 3 sample players\n",
    "sample_rows = df.iloc[[2, 12, 91]]\n",
    "\n",
    "# Test the attributes tier for each player\n",
    "attributes_to_test = [\"Finishing\", \"Pace\", \"Passing\", \"Tackling\", \"Handling\"]\n",
    "\n",
    "print(\"Attribute Tier Test:\")\n",
    "for idx, row in sample_rows.iterrows():\n",
    "    name = row[\"Name\"]\n",
    "    print(f\"\\n{name}\")\n",
    "    for attr in attributes_to_test:\n",
    "        value = row[attr]\n",
    "        tier = get_tier_attributes(value)\n",
    "        print(f\"  {attr}: {value} → {tier}\")"
   ]
  },
  {
   "cell_type": "markdown",
   "id": "778fcf35-a850-474f-b01f-7329b14a9161",
   "metadata": {},
   "source": [
    "### Top Attributes for each Position Group\n",
    "| **Position Group** | **Typical Positions** | **Key Attributes**                                                                                                                                                                                                                                 | **Bonus Attributes (Optional if High)**                                                                                                             |\r\n",
    "| ------------------ | --------------------- | -------------------------------------------------------------------------------------------------------------------------------------------------------------------------------------------------------------------------------------------------- | --------------------------------------------------------------------------------------------------------------------------------------------------- |\r\n",
    "| **Attacker**       | ST, AML, AMR, CF      | - **Finishing** (Accuracy in front of goal)  <br> - **Off The Ball** (Movement to find space)  <br> - **First Touch** (Control under pressure)  <br> - **Pace** (Speed to beat defenders)  <br> - **Composure** (Calmness when shooting)           | - **Dribbling** (Ability to beat defenders)  <br> - **Technique** (Overall ball control quality) <br> - **Anticipation** (Predicting ball movement) |\r\n",
    "| **Midfielder**     | MC, DM, AMC           | - **Passing** (Ability to distribute accurately)  <br> - **Vision** (Spotting key passes)  <br> - **Work Rate** (Effort in both attack & defense)  <br> - **Decision** (Choosing the best action)  <br> - **Technique** (Skill in executing plays) | - **Tackling** (For defensive mids)  <br> - **Long Shots** (For attacking mids)  <br> - **Teamwork** (Coordination with teammates)                  |\r\n",
    "| **Defender**       | DC, DL, DR, WBL, WBR  | - **Tackling** (Winning challenges cleanly)  <br> - **Marking** (Sticking to opponents)  <br> - **Positioning** (Reading the game)  <br> - **Strength** (Physical duels)  <br> - **Heading** (Aerial dominance)                                    | - **Pace** (For full-backs)  <br> - **Concentration** (Focus during play)  <br> - **Bravery** (Willingness to block or challenge)                   |\r\n",
    "| **Goalkeeper**     | GK                    | - **Reflexes** (Quick reaction saves)  <br> - **Handling** (Secure catches)  <br> - **One On Ones** (Stopping breakaways)  <br> - **Command Of Area** (Controlling the box)  <br> - **Aerial Reach** (Claiming crosses)                            | - **Kicking** (Distribution skill)  <br> - **Composure** (Calmness under pressure)                                                                  |\r\n",
    "   |\r\n"
   ]
  },
  {
   "cell_type": "code",
   "execution_count": 65,
   "id": "cd863e86-98e9-4f37-a7c3-57f4905ca275",
   "metadata": {},
   "outputs": [],
   "source": [
    "# Define key and bonus attributes per position group\n",
    "POSITION_GROUPS = {\n",
    "    \"Attacker\": {\n",
    "        \"positions\": ['ST', 'AML', 'AMR', 'CF'],\n",
    "        \"key\": ['Finishing', 'Off The Ball', 'First Touch', 'Pace', 'Composure'],\n",
    "        \"bonus\": ['Dribbling', 'Technique', 'Anticipation']\n",
    "    },\n",
    "    \"Midfielder\": {\n",
    "        \"positions\": ['MC', 'DM', 'AMC'],\n",
    "        \"key\": ['Passing', 'Vision', 'Work Rate', 'Decision', 'Technique'],\n",
    "        \"bonus\": ['Tackling', 'Long Shots', 'Teamwork']\n",
    "    },\n",
    "    \"Defender\": {\n",
    "        \"positions\": ['DC', 'DL', 'DR', 'WBL', 'WBR'],\n",
    "        \"key\": ['Tackling', 'Marking', 'Position.1', 'Strength', 'Heading'],\n",
    "        \"bonus\": ['Pace', 'Concentration', 'Bravery']\n",
    "    },\n",
    "    \"Goalkeeper\": {\n",
    "        \"positions\": ['GK'],\n",
    "        \"key\": ['Reflexes', 'Handling', 'One On Ones', 'Command Of Area', 'Aerial Reach'],\n",
    "        \"bonus\": ['Kicking', 'Composure']\n",
    "    }\n",
    "}"
   ]
  },
  {
   "cell_type": "code",
   "execution_count": 66,
   "id": "727948b4-e1d1-4384-918f-ab20e091a7aa",
   "metadata": {},
   "outputs": [],
   "source": [
    "# Determine player's primary position group based on positional ratings\n",
    "def get_player_group(row) -> str:\n",
    "    for group, data in POSITION_GROUPS.items():\n",
    "        for pos in data['positions']:\n",
    "            if pos in row and row[pos] >= 15:\n",
    "                return group\n",
    "    return \"Unknown\""
   ]
  },
  {
   "cell_type": "code",
   "execution_count": 67,
   "id": "1613fa20-f7b8-4d22-a819-2861fd4cefbd",
   "metadata": {},
   "outputs": [
    {
     "name": "stdout",
     "output_type": "stream",
     "text": [
      "Position Group Test:\n",
      "\n",
      "Marc-André ter Stegen → Goalkeeper\n",
      "Thibaut Courtois → Goalkeeper\n",
      "João Félix → Attacker\n"
     ]
    }
   ],
   "source": [
    "# Select 3 sample players\n",
    "sample_rows = df.iloc[[19, 7, 90]]\n",
    "\n",
    "# Test the position group for each player\n",
    "print(\"Position Group Test:\\n\")\n",
    "for idx, row in sample_rows.iterrows():\n",
    "    name = row[\"Name\"]\n",
    "    group = get_player_group(row)\n",
    "    print(f\"{name} → {group}\")"
   ]
  },
  {
   "cell_type": "markdown",
   "id": "41edb2de-a8a4-41ac-858e-24e142457d37",
   "metadata": {},
   "source": [
    "### Scout Summary Category"
   ]
  },
  {
   "cell_type": "markdown",
   "id": "230da794-caf2-43ad-8959-831e1bdcafa8",
   "metadata": {},
   "source": [
    "| PA Range       | Age  | CA Compared to PA | CA Range | Scout Category        |\r\n",
    "| -------------- | ---- | ----------------- | -------- | --------------------- |\r\n",
    "| ≥ 160          | ≤ 21 | —                 | —        | **Top Talent**        |\r\n",
    "| ≥ 160          | ≤ 26 | CA < PA           | —        | **High Potential**    |\r\n",
    "| ≥ 160          | > 26 | CA ≥ PA           | —        | **Established Star**  |\r\n",
    "| ≥ 140 and <160 | ≤ 26 | CA < PA           | —        | **Promising Player**  |\r\n",
    "| ≥ 140 and <160 | —    | CA ≥ 140          | —        | **Key Player**        |\r\n",
    "| ≥ 140 and <160 | —    | else              | —        | **Reliable Starter**  |\r\n",
    "| <140           | —    | —                 | ≥ 120    | **Squad Contributor** |\r\n",
    "| <140           | —    | —                 | ≥ 90     | **Depth Option**      |\r\n",
    "| <140           | —    | —                 | < 90     | **Limited Role**      |\r\n"
   ]
  },
  {
   "cell_type": "code",
   "execution_count": 68,
   "id": "7ab5fc62-eab0-43a7-aa7d-90f7adb6b116",
   "metadata": {},
   "outputs": [],
   "source": [
    "# Define a scout category based on CA, PA, and Age\n",
    "def get_scout_summary(ca: int, pa: int, age: int) -> str:\n",
    "    if pd.isnull(ca) or pd.isnull(pa) or pd.isnull(age):\n",
    "        return \"Uncategorized\"\n",
    "\n",
    "    # Young elite talent\n",
    "    if pa >= 160:\n",
    "        if age <= 21:\n",
    "            return \"Top Talent\"\n",
    "        elif ca < pa and age <= 26:\n",
    "            return \"High Potential\"\n",
    "        else:\n",
    "            return \"Established Star\"\n",
    "\n",
    "    # Good PA players\n",
    "    elif pa >= 140:\n",
    "        if ca < pa and age <= 26:\n",
    "            return \"Promising Player\"\n",
    "        elif ca >= 140:\n",
    "            return \"Key Player\"\n",
    "        else:\n",
    "            return \"Reliable Starter\"\n",
    "\n",
    "    # Average professionals\n",
    "    elif ca >= 120:\n",
    "        return \"Squad Contributor\"\n",
    "    elif ca >= 90:\n",
    "        return \"Depth Option\"\n",
    "\n",
    "    # Older or weaker players\n",
    "    return \"Limited Role\""
   ]
  },
  {
   "cell_type": "code",
   "execution_count": 69,
   "id": "353077bb-1702-498a-b685-2eaa91063260",
   "metadata": {},
   "outputs": [
    {
     "name": "stdout",
     "output_type": "stream",
     "text": [
      "Scout Summary Category Test:\n",
      "\n",
      "Guus Til (CA: 131, PA: 138, Age: 24) → Squad Contributor\n",
      "Juan Pablo Vargas (CA: 131, PA: 135, Age: 27) → Squad Contributor\n",
      "Marouane Fellaini (CA: 136, PA: 150, Age: 34) → Reliable Starter\n"
     ]
    }
   ],
   "source": [
    "# Select 3 sample players\n",
    "sample_rows = df.iloc[[1701, 1710, 1017]]\n",
    "\n",
    "# Test the scout category for each player\n",
    "print(\"Scout Summary Category Test:\\n\")\n",
    "for idx, row in sample_rows.iterrows():\n",
    "    name = row[\"Name\"]\n",
    "    ca = row[\"ca\"]\n",
    "    pa = row[\"pa\"]\n",
    "    age = row[\"Age\"]\n",
    "    summary = get_scout_summary(ca, pa, age)\n",
    "    print(f\"{name} (CA: {ca}, PA: {pa}, Age: {age}) → {summary}\")"
   ]
  },
  {
   "attachments": {},
   "cell_type": "markdown",
   "id": "e00f69d6-83fa-4b52-b014-5852f50e6aa2",
   "metadata": {},
   "source": [
    "## Scouting Report Template Generation"
   ]
  },
  {
   "cell_type": "markdown",
   "id": "6b13aada-8a15-425a-977d-cf705645da53",
   "metadata": {},
   "source": [
    "### Prepare Input for Fine-tuning a T5-style Model"
   ]
  },
  {
   "cell_type": "code",
   "execution_count": 70,
   "id": "bde6739e-c2f5-4bf0-b62e-339da807968e",
   "metadata": {},
   "outputs": [],
   "source": [
    "# Turn a player's features into a structured input string for training\n",
    "def make_input_features(row) -> str:\n",
    "    fields = [f\"{col}: {row[col]}\" for col in row.index if pd.notnull(row[col])]\n",
    "    return \"; \".join(fields)"
   ]
  },
  {
   "cell_type": "markdown",
   "id": "ca3787a9-1e2a-43e6-8997-a46f75386d20",
   "metadata": {},
   "source": [
    "### Template for the Scout Report"
   ]
  },
  {
   "cell_type": "code",
   "execution_count": 71,
   "id": "3c36718d-039c-4af9-b670-75ab88a7eaf3",
   "metadata": {},
   "outputs": [],
   "source": [
    "# Define template for the scout report\n",
    "def generate_scouting_report(row) -> str:\n",
    "    name = row.get(\"Name\", \"Unknown Player\")\n",
    "    age = row.get(\"Age\")\n",
    "    ca = row.get(\"ca\")\n",
    "    pa = row.get(\"pa\")\n",
    "    original_position = row.get(\"Position\", \"Unknown Position\")\n",
    "    age_stage = get_tier_age(age)\n",
    "    ca_tier = get_tier_ca(ca)\n",
    "    pa_tier = get_tier_pa(pa)\n",
    "    scout_category = get_scout_summary(ca, pa, age)\n",
    "\n",
    "    # Use to select correct attribute set\n",
    "    position_group = get_player_group(row)\n",
    "\n",
    "    if position_group not in POSITION_GROUPS:\n",
    "        return f\"{name} has no clearly defined role, making scouting difficult.\"\n",
    "\n",
    "    key_attrs = POSITION_GROUPS[position_group][\"key\"]\n",
    "    bonus_attrs = POSITION_GROUPS[position_group][\"bonus\"]\n",
    "\n",
    "    # Describe key strengths\n",
    "    key_descriptions = []\n",
    "    for attr in key_attrs:\n",
    "        value = row.get(attr)\n",
    "        tier = get_tier_attributes(value)\n",
    "        if tier != \"Unknown\":\n",
    "            key_descriptions.append(f\"{attr.lower()} rated {tier.lower()}\")\n",
    "\n",
    "    # Describe bonus skills (only if high enough)\n",
    "    bonus_descriptions = []\n",
    "    for attr in bonus_attrs:\n",
    "        value = row.get(attr)\n",
    "        tier = get_tier_attributes(value)\n",
    "        if tier in [\"Very Good\", \"Excellent\", \"World-Class\"]:\n",
    "            bonus_descriptions.append(f\"{attr.lower()} ({tier.lower()})\")\n",
    "\n",
    "    # Development potential line\n",
    "    if ca < pa and age <= 26:\n",
    "        potential_line = \"He still has room to grow and could reach a higher level with the right development.\"\n",
    "    elif ca < pa and age > 26:\n",
    "        potential_line = \"While there's some room between his current and potential ability, his age suggests limited upside.\"\n",
    "    elif ca == pa:\n",
    "        potential_line = \"He appears to be playing close to his full potential.\"\n",
    "    else:\n",
    "        potential_line = \"His current ability may suggest he's past his peak.\"\n",
    "\n",
    "    # Define multiple templates\n",
    "    templates = [\n",
    "        f\"{name} is a {age_stage.lower()} player that plays as {position_group.lower()} in the position {original_position} who currently shows {ca_tier.lower()} ability (CA: {ca}), with a potential ceiling of {pa_tier.lower()} (PA: {pa}).\",\n",
    "        f\"Playing as a {position_group.lower()} in the position {original_position}, {name} is a {age_stage.lower()} player showing {ca_tier.lower()} quality (CA: {ca}) and could reach {pa_tier.lower()} (PA: {pa}).\",\n",
    "        f\"{name}, aged {age}, features as a {position_group.lower()} ({original_position}). Currently rated {ca_tier.lower()} (CA: {ca}), he may develop into a {pa_tier.lower()} (PA: {pa}) level player.\"]\n",
    "    \n",
    "    intro = random.choice(templates)\n",
    "\n",
    "    # Attribute summary\n",
    "    if key_descriptions:\n",
    "        attributes_summary = f\" Key strengths include: \" + \", \".join(key_descriptions) + \".\"\n",
    "    else:\n",
    "        attributes_summary = \"\"\n",
    "\n",
    "    if bonus_descriptions:\n",
    "        bonus_summary = f\" He also shows strong ability in areas like \" + \", \".join(bonus_descriptions) + \".\"\n",
    "    else:\n",
    "        bonus_summary = \"\"\n",
    "\n",
    "    # Final line\n",
    "    summary_line = f\" Overall, he can be categorized as a {scout_category.lower()}.\"\n",
    "\n",
    "    # Combine all parts\n",
    "    report = intro + \" \" + potential_line + attributes_summary + bonus_summary + summary_line\n",
    "\n",
    "    return report.strip()"
   ]
  },
  {
   "cell_type": "markdown",
   "id": "a36db710-b8af-49e7-96f5-724d36efd517",
   "metadata": {},
   "source": [
    "### Utlize a T5-based paraphrasing model"
   ]
  },
  {
   "cell_type": "code",
   "execution_count": 72,
   "id": "0da8c8ce-6083-41cc-806d-c072de033b19",
   "metadata": {},
   "outputs": [],
   "source": [
    "# Load the paraphrasing model\n",
    "paraphrase_model_name = \"ramsrigouthamg/t5_paraphraser\"\n",
    "paraphrase_tokenizer = T5Tokenizer.from_pretrained(paraphrase_model_name)\n",
    "paraphrase_model = AutoModelForSeq2SeqLM.from_pretrained(paraphrase_model_name).to(device)"
   ]
  },
  {
   "cell_type": "code",
   "execution_count": 73,
   "id": "98909317-dc18-4259-bffa-422d63875a93",
   "metadata": {},
   "outputs": [],
   "source": [
    "# Define the paraphrasing function\n",
    "def paraphrase_text(text, num_return_sequences=1, num_beams=4, max_length=256):\n",
    "    input_text = \"paraphrase: \" + text + \" </s>\"\n",
    "\n",
    "    encoding = paraphrase_tokenizer(\n",
    "        input_text,\n",
    "        padding=\"max_length\",\n",
    "        truncation=True,\n",
    "        max_length=max_length,\n",
    "        return_tensors=\"pt\"\n",
    "    )\n",
    "    input_ids = encoding[\"input_ids\"].to(device)\n",
    "    attention_mask = encoding[\"attention_mask\"].to(device)\n",
    "\n",
    "    with torch.no_grad():\n",
    "        outputs = paraphrase_model.generate(\n",
    "            input_ids=input_ids,\n",
    "            attention_mask=attention_mask,\n",
    "            max_length=max_length,\n",
    "            num_beams=num_beams,\n",
    "            num_return_sequences=num_return_sequences,\n",
    "            early_stopping=True\n",
    "        )\n",
    "\n",
    "    return paraphrase_tokenizer.decode(outputs[0], skip_special_tokens=True)"
   ]
  },
  {
   "cell_type": "code",
   "execution_count": 74,
   "id": "5df99a2f-f76b-4dfa-80dd-c57144d8fb03",
   "metadata": {},
   "outputs": [],
   "source": [
    "# Define the batch paraphrasing function\n",
    "def batch_paraphrase_texts(texts, batch_size=16):\n",
    "    outputs = []\n",
    "    for i in tqdm(range(0, len(texts), batch_size), desc=\"Paraphrasing (GPU)\"):\n",
    "        batch = texts[i:i+batch_size]\n",
    "        outputs.extend([paraphrase_text(t) for t in batch])\n",
    "    return outputs"
   ]
  },
  {
   "cell_type": "markdown",
   "id": "f2ec6f02-6dd4-466d-9b75-9975cd550f24",
   "metadata": {},
   "source": [
    "### Make New Dataset for Fine-tuning a T5-style Model"
   ]
  },
  {
   "cell_type": "code",
   "execution_count": 75,
   "id": "d8b2b6c0-3c79-4ede-87df-eb314a6118fd",
   "metadata": {},
   "outputs": [
    {
     "name": "stderr",
     "output_type": "stream",
     "text": [
      "Paraphrasing (GPU):   0%|                                           | 0/265 [00:00<?, ?it/s]D:\\anaconda3\\envs\\gpuenv\\lib\\site-packages\\transformers\\models\\t5\\tokenization_t5.py:289: UserWarning: This sequence already has </s>. In future versions this behavior may lead to duplicated eos tokens being added.\n",
      "  warnings.warn(\n",
      "Paraphrasing (GPU): 100%|██████████████████████████████| 265/265 [9:32:14<00:00, 129.56s/it]\n"
     ]
    }
   ],
   "source": [
    "# Create the original input text and generated report\n",
    "df[\"Input Text\"] = df.apply(make_input_features, axis=1)\n",
    "df[\"Generated Report\"] = df.apply(generate_scouting_report, axis=1)\n",
    "\n",
    "# Sample 25% of rows to paraphrase\n",
    "df_aug = df.sample(frac=0.25, random_state=42).copy()\n",
    "tqdm.pandas()\n",
    "df_aug[\"Generated Report\"] = batch_paraphrase_texts(df_aug[\"Generated Report\"].tolist(), batch_size=8)\n",
    "\n",
    "# Combine paraphrased with original data for more diversity\n",
    "df_final = pd.concat([df, df_aug], ignore_index=True)"
   ]
  },
  {
   "cell_type": "code",
   "execution_count": 76,
   "id": "267f306d-5cef-4c74-9642-ac375fd40336",
   "metadata": {},
   "outputs": [],
   "source": [
    "df_final[[\"Input Text\", \"Generated Report\"]].to_csv(\"scouting_finetune_dataset3.csv\", index=False)"
   ]
  },
  {
   "cell_type": "code",
   "execution_count": 82,
   "id": "7ed32034-0313-4348-9ced-4a7c588ccfa3",
   "metadata": {},
   "outputs": [
    {
     "data": {
      "text/html": [
       "<table border=\"1\" class=\"dataframe\">\n",
       "  <thead>\n",
       "    <tr style=\"text-align: right;\">\n",
       "      <th></th>\n",
       "      <th>Input Text</th>\n",
       "      <th>Generated Report</th>\n",
       "    </tr>\n",
       "  </thead>\n",
       "  <tbody>\n",
       "    <tr>\n",
       "      <th>1</th>\n",
       "      <td>Name: Andreaw Gravillon; Position: D C; Age: 24; ca: 120; pa: 139; Corners: 6; Crossing: 6; Dribbling: 6; Finishing: 6; First Touch: 11; Free Kick Taking: 5; Heading: 14; Long Shots: 9; Long Throws: 5; Marking: 14; Passing: 10; Penalty Taking: 10; Tackling: 13; Technique: 11; Aggressiion: 13; Anticipation: 12; Bravery: 14; Composure: 11; Concentration: 12; Vision: 7; Decision: 13; Determination: 13; Flair: 6; Leadership: 10; Off The Ball: 6; Position.1: 13; Teamwork: 12; Work Rate: 12; Acceleration: 13; Agility: 13; Balance: 14; Jumping Reach: 13; Natural Fitness: 16; Pace: 13; Stamina: 15; Strength: 14; Stability: 13; Foul: 7; Contest performance: 12; Injury: 2; diversity: 10; Aerial Reach: 2; Command Of Area: 2; Communication: 2; Eccentricity: 1; Handling: 1; Kicking: 2; One On Ones: 3; Reflexes: 2; Rushing Out: 1; Punching: 4; Throwing: 2; Adaptation: 11; Ambition: 12; Argue: 10; Loyal: 10; Resistant to stress: 11; Professional: 12; Sportsmanship: 12; Emotional control: 8; GK: 1; DL: 1; DC: 20; DR: 10; WBL: 1; WBR: 1; DM: 1; ML: 1; MC: 1; MR: 1; AML: 1; AMC: 1; AMR: 1; ST: 1</td>\n",
       "      <td>Andreaw Gravillon is a developing/early prime player that plays as defender in the position D C who currently shows good ability (CA: 120), with a potential ceiling of good (PA: 139). He still has room to grow and could reach a higher level with the right development. Key strengths include: tackling rated decent, marking rated good, position.1 rated decent, strength rated good, heading rated good. Overall, he can be categorized as a squad contributor.</td>\n",
       "    </tr>\n",
       "    <tr>\n",
       "      <th>2</th>\n",
       "      <td>Name: Rafael Gava; Position: M/AM C; Age: 29; ca: 120; pa: 124; Corners: 11; Crossing: 13; Dribbling: 13; Finishing: 12; First Touch: 14; Free Kick Taking: 8; Heading: 7; Long Shots: 10; Long Throws: 5; Marking: 6; Passing: 13; Penalty Taking: 13; Tackling: 7; Technique: 13; Aggressiion: 14; Anticipation: 13; Bravery: 9; Composure: 13; Concentration: 12; Vision: 12; Decision: 12; Determination: 14; Flair: 10; Leadership: 13; Off The Ball: 13; Position.1: 7; Teamwork: 14; Work Rate: 14; Acceleration: 13; Agility: 13; Balance: 11; Jumping Reach: 9; Natural Fitness: 12; Pace: 13; Stamina: 13; Strength: 8; Stability: 13; Foul: 11; Contest performance: 11; Injury: 5; diversity: 14; Aerial Reach: 3; Command Of Area: 3; Communication: 2; Eccentricity: 3; Handling: 3; Kicking: 1; One On Ones: 1; Reflexes: 1; Rushing Out: 3; Punching: 3; Throwing: 1; Adaptation: 12; Ambition: 14; Argue: 10; Loyal: 10; Resistant to stress: 11; Professional: 13; Sportsmanship: 13; Emotional control: 10; GK: 1; DL: 10; DC: 1; DR: 1; WBL: 10; WBR: 1; DM: 1; ML: 12; MC: 18; MR: 1; AML: 12; AMC: 20; AMR: 12; ST: 1</td>\n",
       "      <td>Playing as a midfielder in the position M/AM C, Rafael Gava is a prime player showing good quality (CA: 120) and could reach good (PA: 124). While there's some room between his current and potential ability, his age suggests limited upside. Key strengths include: passing rated decent, vision rated decent, work rate rated good, decision rated decent, technique rated decent. Overall, he can be categorized as a squad contributor.</td>\n",
       "    </tr>\n",
       "    <tr>\n",
       "      <th>3</th>\n",
       "      <td>Name: Ulrik Saltnes; Position: M/AM C; Age: 29; ca: 126; pa: 129; Corners: 8; Crossing: 9; Dribbling: 10; Finishing: 11; First Touch: 10; Free Kick Taking: 12; Heading: 11; Long Shots: 12; Long Throws: 6; Marking: 12; Passing: 12; Penalty Taking: 15; Tackling: 12; Technique: 12; Aggressiion: 13; Anticipation: 15; Bravery: 13; Composure: 13; Concentration: 15; Vision: 12; Decision: 14; Determination: 18; Flair: 10; Leadership: 15; Off The Ball: 14; Position.1: 13; Teamwork: 16; Work Rate: 16; Acceleration: 10; Agility: 11; Balance: 13; Jumping Reach: 13; Natural Fitness: 16; Pace: 10; Stamina: 14; Strength: 13; Stability: 16; Foul: 12; Contest performance: 11; Injury: 5; diversity: 16; Aerial Reach: 1; Command Of Area: 3; Communication: 1; Eccentricity: 4; Handling: 2; Kicking: 1; One On Ones: 1; Reflexes: 1; Rushing Out: 2; Punching: 1; Throwing: 2; Adaptation: 7; Ambition: 17; Argue: 7; Loyal: 17; Resistant to stress: 11; Professional: 17; Sportsmanship: 7; Emotional control: 8; GK: 1; DL: 1; DC: 15; DR: 1; WBL: 1; WBR: 1; DM: 15; ML: 1; MC: 20; MR: 1; AML: 1; AMC: 16; AMR: 1; ST: 11</td>\n",
       "      <td>Ulrik Saltnes, aged 29, features as a midfielder (M/AM C). Currently rated good (CA: 126), he may develop into a good (PA: 129) level player. While there's some room between his current and potential ability, his age suggests limited upside. Key strengths include: passing rated decent, vision rated decent, work rate rated very good, decision rated good, technique rated decent. He also shows strong ability in areas like teamwork (very good). Overall, he can be categorized as a squad contributor.</td>\n",
       "    </tr>\n",
       "  </tbody>\n",
       "</table>"
      ],
      "text/plain": [
       "<IPython.core.display.HTML object>"
      ]
     },
     "metadata": {},
     "output_type": "display_data"
    }
   ],
   "source": [
    "# Load and check the new dataset\n",
    "df = pd.read_csv(\"scouting_finetune_dataset3.csv\")\n",
    "\n",
    "sample_df = df_final.sample(n=3).reset_index(drop=True)\n",
    "sample_df.index = sample_df.index + 1\n",
    "\n",
    "display(HTML(sample_df[[\"Input Text\", \"Generated Report\"]].to_html(escape=False)))"
   ]
  },
  {
   "attachments": {},
   "cell_type": "markdown",
   "id": "00abaf6a-3d72-4439-81a7-19eff36325a2",
   "metadata": {},
   "source": [
    "## Model Fine-Tuning "
   ]
  },
  {
   "cell_type": "code",
   "execution_count": 13,
   "id": "2f3893a7-4c80-4979-bb08-0a09af322455",
   "metadata": {},
   "outputs": [
    {
     "name": "stdout",
     "output_type": "stream",
     "text": [
      "Train size: 8452, Validation size: 2113\n"
     ]
    }
   ],
   "source": [
    "# Load and split the dataset\n",
    "df = pd.read_csv(\"scouting_finetune_dataset3.csv\")\n",
    "train_df, val_df = train_test_split(df, test_size=0.2, random_state=42)\n",
    "\n",
    "# Convert to HuggingFace Dataset\n",
    "train_dataset = Dataset.from_pandas(train_df)\n",
    "val_dataset = Dataset.from_pandas(val_df)\n",
    "\n",
    "print(f\"Train size: {len(train_df)}, Validation size: {len(val_df)}\")"
   ]
  },
  {
   "cell_type": "code",
   "execution_count": 14,
   "id": "5c5065bd-10da-4db0-b96f-d57203f67687",
   "metadata": {},
   "outputs": [
    {
     "name": "stderr",
     "output_type": "stream",
     "text": [
      "Special tokens have been added in the vocabulary, make sure the associated word embeddings are fine-tuned or trained.\n"
     ]
    }
   ],
   "source": [
    "# Load tokenizer and model\n",
    "model_name = \"t5-small\"\n",
    "tokenizer = T5Tokenizer.from_pretrained(model_name)\n",
    "model = T5ForConditionalGeneration.from_pretrained(model_name).to(device)"
   ]
  },
  {
   "cell_type": "code",
   "execution_count": 15,
   "id": "103b6881-de13-4e96-8f74-bf4bb613188a",
   "metadata": {},
   "outputs": [],
   "source": [
    "# Preprocessing function\n",
    "def preprocess(example):\n",
    "    input_text = \"generate report: \" + example[\"Input Text\"]\n",
    "    target_text = example[\"Generated Report\"]\n",
    "    tokenized = tokenizer(\n",
    "        input_text, max_length=512, truncation=True, padding=\"max_length\"\n",
    "    )\n",
    "    tokenized[\"labels\"] = tokenizer(\n",
    "        target_text, max_length=256, truncation=True, padding=\"max_length\"\n",
    "    )[\"input_ids\"]\n",
    "    return tokenized"
   ]
  },
  {
   "cell_type": "code",
   "execution_count": 16,
   "id": "5aad076f-da00-45f9-9adb-d41fa2ccce33",
   "metadata": {},
   "outputs": [
    {
     "name": "stderr",
     "output_type": "stream",
     "text": [
      "Map: 100%|█████████████████████████████████████████████████████████████████| 8452/8452 [01:16<00:00, 110.07 examples/s]\n",
      "Map: 100%|█████████████████████████████████████████████████████████████████| 2113/2113 [00:16<00:00, 127.13 examples/s]\n"
     ]
    }
   ],
   "source": [
    "# Tokenize dataset\n",
    "tokenized_train = train_dataset.map(preprocess, remove_columns=train_dataset.column_names)\n",
    "tokenized_val = val_dataset.map(preprocess, remove_columns=val_dataset.column_names)"
   ]
  },
  {
   "cell_type": "code",
   "execution_count": 17,
   "id": "b4c3430e-0291-4942-99db-9e79b3071a46",
   "metadata": {},
   "outputs": [
    {
     "name": "stderr",
     "output_type": "stream",
     "text": [
      "D:\\anaconda3\\envs\\gpuenv\\lib\\site-packages\\transformers\\training_args.py:1474: FutureWarning: `evaluation_strategy` is deprecated and will be removed in version 4.46 of 🤗 Transformers. Use `eval_strategy` instead\n",
      "  warnings.warn(\n"
     ]
    }
   ],
   "source": [
    "# Define training arguments\n",
    "training_args = TrainingArguments(\n",
    "    output_dir=\"./t5-scouting-model\",\n",
    "    evaluation_strategy=\"steps\",\n",
    "    save_strategy=\"steps\",\n",
    "    eval_steps=100,\n",
    "    save_steps=100,\n",
    "    per_device_train_batch_size=8,\n",
    "    per_device_eval_batch_size=8,\n",
    "    gradient_accumulation_steps=2, \n",
    "    num_train_epochs=10, \n",
    "    logging_steps=20,\n",
    "    learning_rate=2e-5,\n",
    "    lr_scheduler_type=\"cosine\",  \n",
    "    load_best_model_at_end=True,\n",
    "    metric_for_best_model=\"loss\",\n",
    "    greater_is_better=False,\n",
    "    warmup_steps=200,\n",
    "    weight_decay=0.01,\n",
    "    report_to=\"tensorboard\", \n",
    "    fp16=True  \n",
    ")"
   ]
  },
  {
   "cell_type": "code",
   "execution_count": 18,
   "id": "3ab0ccd5-5df6-45b9-8460-165a8fd2e345",
   "metadata": {},
   "outputs": [],
   "source": [
    "# Data collator\n",
    "data_collator = DataCollatorForSeq2Seq(tokenizer, model=model)"
   ]
  },
  {
   "cell_type": "code",
   "execution_count": 21,
   "id": "b81dd25e-8f70-4a60-ac2b-7b9f78eb04f7",
   "metadata": {
    "scrolled": true
   },
   "outputs": [],
   "source": [
    "# Initialize trainer\n",
    "trainer = Trainer(\n",
    "    model=model,\n",
    "    args=training_args,\n",
    "    train_dataset=tokenized_train,\n",
    "    eval_dataset=tokenized_val,\n",
    "    tokenizer=tokenizer,\n",
    "    data_collator=data_collator,\n",
    "    callbacks=[EarlyStoppingCallback(early_stopping_patience=3)]\n",
    ")"
   ]
  },
  {
   "cell_type": "code",
   "execution_count": 22,
   "id": "eab8fe6e-5ff3-488e-b8a6-f5f2ac11d476",
   "metadata": {},
   "outputs": [
    {
     "data": {
      "text/html": [
       "\n",
       "    <div>\n",
       "      \n",
       "      <progress value='5280' max='5280' style='width:300px; height:20px; vertical-align: middle;'></progress>\n",
       "      [5280/5280 2:15:16, Epoch 9/10]\n",
       "    </div>\n",
       "    <table border=\"1\" class=\"dataframe\">\n",
       "  <thead>\n",
       " <tr style=\"text-align: left;\">\n",
       "      <th>Step</th>\n",
       "      <th>Training Loss</th>\n",
       "      <th>Validation Loss</th>\n",
       "    </tr>\n",
       "  </thead>\n",
       "  <tbody>\n",
       "    <tr>\n",
       "      <td>100</td>\n",
       "      <td>3.831400</td>\n",
       "      <td>2.146342</td>\n",
       "    </tr>\n",
       "    <tr>\n",
       "      <td>200</td>\n",
       "      <td>1.153600</td>\n",
       "      <td>0.778524</td>\n",
       "    </tr>\n",
       "    <tr>\n",
       "      <td>300</td>\n",
       "      <td>0.462500</td>\n",
       "      <td>0.278002</td>\n",
       "    </tr>\n",
       "    <tr>\n",
       "      <td>400</td>\n",
       "      <td>0.296000</td>\n",
       "      <td>0.168988</td>\n",
       "    </tr>\n",
       "    <tr>\n",
       "      <td>500</td>\n",
       "      <td>0.222200</td>\n",
       "      <td>0.134116</td>\n",
       "    </tr>\n",
       "    <tr>\n",
       "      <td>600</td>\n",
       "      <td>0.186500</td>\n",
       "      <td>0.108673</td>\n",
       "    </tr>\n",
       "    <tr>\n",
       "      <td>700</td>\n",
       "      <td>0.153900</td>\n",
       "      <td>0.096845</td>\n",
       "    </tr>\n",
       "    <tr>\n",
       "      <td>800</td>\n",
       "      <td>0.145000</td>\n",
       "      <td>0.090375</td>\n",
       "    </tr>\n",
       "    <tr>\n",
       "      <td>900</td>\n",
       "      <td>0.129400</td>\n",
       "      <td>0.084942</td>\n",
       "    </tr>\n",
       "    <tr>\n",
       "      <td>1000</td>\n",
       "      <td>0.117300</td>\n",
       "      <td>0.081436</td>\n",
       "    </tr>\n",
       "    <tr>\n",
       "      <td>1100</td>\n",
       "      <td>0.114900</td>\n",
       "      <td>0.077216</td>\n",
       "    </tr>\n",
       "    <tr>\n",
       "      <td>1200</td>\n",
       "      <td>0.109700</td>\n",
       "      <td>0.075193</td>\n",
       "    </tr>\n",
       "    <tr>\n",
       "      <td>1300</td>\n",
       "      <td>0.108600</td>\n",
       "      <td>0.072137</td>\n",
       "    </tr>\n",
       "    <tr>\n",
       "      <td>1400</td>\n",
       "      <td>0.102100</td>\n",
       "      <td>0.071255</td>\n",
       "    </tr>\n",
       "    <tr>\n",
       "      <td>1500</td>\n",
       "      <td>0.099100</td>\n",
       "      <td>0.068668</td>\n",
       "    </tr>\n",
       "    <tr>\n",
       "      <td>1600</td>\n",
       "      <td>0.096300</td>\n",
       "      <td>0.067356</td>\n",
       "    </tr>\n",
       "    <tr>\n",
       "      <td>1700</td>\n",
       "      <td>0.091700</td>\n",
       "      <td>0.065830</td>\n",
       "    </tr>\n",
       "    <tr>\n",
       "      <td>1800</td>\n",
       "      <td>0.089900</td>\n",
       "      <td>0.063956</td>\n",
       "    </tr>\n",
       "    <tr>\n",
       "      <td>1900</td>\n",
       "      <td>0.086100</td>\n",
       "      <td>0.062339</td>\n",
       "    </tr>\n",
       "    <tr>\n",
       "      <td>2000</td>\n",
       "      <td>0.089700</td>\n",
       "      <td>0.059926</td>\n",
       "    </tr>\n",
       "    <tr>\n",
       "      <td>2100</td>\n",
       "      <td>0.083900</td>\n",
       "      <td>0.058381</td>\n",
       "    </tr>\n",
       "    <tr>\n",
       "      <td>2200</td>\n",
       "      <td>0.081300</td>\n",
       "      <td>0.057020</td>\n",
       "    </tr>\n",
       "    <tr>\n",
       "      <td>2300</td>\n",
       "      <td>0.080900</td>\n",
       "      <td>0.054592</td>\n",
       "    </tr>\n",
       "    <tr>\n",
       "      <td>2400</td>\n",
       "      <td>0.076700</td>\n",
       "      <td>0.052303</td>\n",
       "    </tr>\n",
       "    <tr>\n",
       "      <td>2500</td>\n",
       "      <td>0.078300</td>\n",
       "      <td>0.050412</td>\n",
       "    </tr>\n",
       "    <tr>\n",
       "      <td>2600</td>\n",
       "      <td>0.073400</td>\n",
       "      <td>0.048056</td>\n",
       "    </tr>\n",
       "    <tr>\n",
       "      <td>2700</td>\n",
       "      <td>0.070800</td>\n",
       "      <td>0.045551</td>\n",
       "    </tr>\n",
       "    <tr>\n",
       "      <td>2800</td>\n",
       "      <td>0.065500</td>\n",
       "      <td>0.043885</td>\n",
       "    </tr>\n",
       "    <tr>\n",
       "      <td>2900</td>\n",
       "      <td>0.064600</td>\n",
       "      <td>0.042755</td>\n",
       "    </tr>\n",
       "    <tr>\n",
       "      <td>3000</td>\n",
       "      <td>0.066400</td>\n",
       "      <td>0.041285</td>\n",
       "    </tr>\n",
       "    <tr>\n",
       "      <td>3100</td>\n",
       "      <td>0.063800</td>\n",
       "      <td>0.039770</td>\n",
       "    </tr>\n",
       "    <tr>\n",
       "      <td>3200</td>\n",
       "      <td>0.061700</td>\n",
       "      <td>0.039087</td>\n",
       "    </tr>\n",
       "    <tr>\n",
       "      <td>3300</td>\n",
       "      <td>0.060300</td>\n",
       "      <td>0.038440</td>\n",
       "    </tr>\n",
       "    <tr>\n",
       "      <td>3400</td>\n",
       "      <td>0.058900</td>\n",
       "      <td>0.037204</td>\n",
       "    </tr>\n",
       "    <tr>\n",
       "      <td>3500</td>\n",
       "      <td>0.062500</td>\n",
       "      <td>0.036570</td>\n",
       "    </tr>\n",
       "    <tr>\n",
       "      <td>3600</td>\n",
       "      <td>0.056300</td>\n",
       "      <td>0.036167</td>\n",
       "    </tr>\n",
       "    <tr>\n",
       "      <td>3700</td>\n",
       "      <td>0.062000</td>\n",
       "      <td>0.035462</td>\n",
       "    </tr>\n",
       "    <tr>\n",
       "      <td>3800</td>\n",
       "      <td>0.057000</td>\n",
       "      <td>0.035002</td>\n",
       "    </tr>\n",
       "    <tr>\n",
       "      <td>3900</td>\n",
       "      <td>0.057800</td>\n",
       "      <td>0.034445</td>\n",
       "    </tr>\n",
       "    <tr>\n",
       "      <td>4000</td>\n",
       "      <td>0.055100</td>\n",
       "      <td>0.034144</td>\n",
       "    </tr>\n",
       "    <tr>\n",
       "      <td>4100</td>\n",
       "      <td>0.057900</td>\n",
       "      <td>0.033890</td>\n",
       "    </tr>\n",
       "    <tr>\n",
       "      <td>4200</td>\n",
       "      <td>0.054400</td>\n",
       "      <td>0.033685</td>\n",
       "    </tr>\n",
       "    <tr>\n",
       "      <td>4300</td>\n",
       "      <td>0.055600</td>\n",
       "      <td>0.033492</td>\n",
       "    </tr>\n",
       "    <tr>\n",
       "      <td>4400</td>\n",
       "      <td>0.055500</td>\n",
       "      <td>0.033198</td>\n",
       "    </tr>\n",
       "    <tr>\n",
       "      <td>4500</td>\n",
       "      <td>0.054400</td>\n",
       "      <td>0.033057</td>\n",
       "    </tr>\n",
       "    <tr>\n",
       "      <td>4600</td>\n",
       "      <td>0.053000</td>\n",
       "      <td>0.033028</td>\n",
       "    </tr>\n",
       "    <tr>\n",
       "      <td>4700</td>\n",
       "      <td>0.054400</td>\n",
       "      <td>0.032940</td>\n",
       "    </tr>\n",
       "    <tr>\n",
       "      <td>4800</td>\n",
       "      <td>0.052000</td>\n",
       "      <td>0.032899</td>\n",
       "    </tr>\n",
       "    <tr>\n",
       "      <td>4900</td>\n",
       "      <td>0.051700</td>\n",
       "      <td>0.032872</td>\n",
       "    </tr>\n",
       "    <tr>\n",
       "      <td>5000</td>\n",
       "      <td>0.052600</td>\n",
       "      <td>0.032854</td>\n",
       "    </tr>\n",
       "    <tr>\n",
       "      <td>5100</td>\n",
       "      <td>0.052700</td>\n",
       "      <td>0.032846</td>\n",
       "    </tr>\n",
       "    <tr>\n",
       "      <td>5200</td>\n",
       "      <td>0.051400</td>\n",
       "      <td>0.032842</td>\n",
       "    </tr>\n",
       "  </tbody>\n",
       "</table><p>"
      ],
      "text/plain": [
       "<IPython.core.display.HTML object>"
      ]
     },
     "metadata": {},
     "output_type": "display_data"
    },
    {
     "name": "stderr",
     "output_type": "stream",
     "text": [
      "There were missing keys in the checkpoint model loaded: ['encoder.embed_tokens.weight', 'decoder.embed_tokens.weight', 'lm_head.weight'].\n"
     ]
    },
    {
     "name": "stdout",
     "output_type": "stream",
     "text": [
      "TrainOutput(global_step=5280, training_loss=0.27471077241229286, metrics={'train_runtime': 8117.5756, 'train_samples_per_second': 10.412, 'train_steps_per_second': 0.65, 'total_flos': 1.1428803083501568e+16, 'train_loss': 0.27471077241229286, 'epoch': 9.990539262062441})\n"
     ]
    }
   ],
   "source": [
    "# Save & train the model\n",
    "train_output = trainer.train()\n",
    "print(train_output)"
   ]
  },
  {
   "cell_type": "code",
   "execution_count": 23,
   "id": "5bbeade6-c784-46f5-91df-64437556fb28",
   "metadata": {},
   "outputs": [
    {
     "name": "stdout",
     "output_type": "stream",
     "text": [
      "Fine-Tuning Summary\n",
      "Training stopped after 5280 steps (≈9.99 epochs).\n",
      "Final training loss: 0.2747\n",
      "Total training time: 8117.6 seconds (~135.3 minutes)\n",
      "Training throughput: 10.41 samples/sec, 0.65 steps/sec)\n",
      "Best model was saved at: ./t5-scouting-model\\checkpoint-5200\n"
     ]
    }
   ],
   "source": [
    "# Extract training metrics\n",
    "metrics = train_output.metrics\n",
    "final_loss = train_output.training_loss\n",
    "steps = train_output.global_step\n",
    "epochs = metrics.get(\"epoch\", 0)\n",
    "runtime = metrics.get(\"train_runtime\", 0)\n",
    "samples_per_sec = metrics.get(\"train_samples_per_second\", 0)\n",
    "steps_per_sec = metrics.get(\"train_steps_per_second\", 0)\n",
    "best_eval_loss = metrics.get(\"eval_loss\")\n",
    "best_model_path = trainer.state.best_model_checkpoint\n",
    "\n",
    "print(\"Fine-Tuning Summary\")\n",
    "print(f\"Training stopped after {steps} steps (≈{epochs:.2f} epochs).\")\n",
    "print(f\"Final training loss: {final_loss:.4f}\")\n",
    "if best_eval_loss is not None:\n",
    "    print(f\"Best evaluation loss: {best_eval_loss:.4f}\")\n",
    "print(f\"Total training time: {runtime:.1f} seconds (~{runtime/60:.1f} minutes)\")\n",
    "print(f\"Training throughput: {samples_per_sec:.2f} samples/sec, {steps_per_sec:.2f} steps/sec)\")\n",
    "if best_model_path:\n",
    "    print(f\"Best model was saved at: {best_model_path}\")"
   ]
  },
  {
   "cell_type": "code",
   "execution_count": 24,
   "id": "c6f0ec0c-156b-4570-8c25-095d40e53c31",
   "metadata": {},
   "outputs": [
    {
     "data": {
      "text/plain": [
       "('t5-scouting-model\\\\tokenizer_config.json',\n",
       " 't5-scouting-model\\\\special_tokens_map.json',\n",
       " 't5-scouting-model\\\\spiece.model',\n",
       " 't5-scouting-model\\\\added_tokens.json')"
      ]
     },
     "execution_count": 24,
     "metadata": {},
     "output_type": "execute_result"
    }
   ],
   "source": [
    "# Save the Fine-tuned model\n",
    "trainer.save_model(\"t5-scouting-model\")\n",
    "tokenizer.save_pretrained(\"t5-scouting-model\")"
   ]
  },
  {
   "attachments": {},
   "cell_type": "markdown",
   "id": "2ed0af4d-2127-4307-b587-00406761b9b8",
   "metadata": {},
   "source": [
    "## Model Evaluation"
   ]
  },
  {
   "cell_type": "code",
   "execution_count": 43,
   "id": "38c6de90-c5f6-4ebe-b681-df2c968a287c",
   "metadata": {},
   "outputs": [
    {
     "name": "stderr",
     "output_type": "stream",
     "text": [
      "Special tokens have been added in the vocabulary, make sure the associated word embeddings are fine-tuned or trained.\n"
     ]
    }
   ],
   "source": [
    "# Load the fine-tuned model\n",
    "model = T5ForConditionalGeneration.from_pretrained(\"t5-scouting-model\").to(device)\n",
    "tokenizer = T5Tokenizer.from_pretrained(\"t5-scouting-model\")"
   ]
  },
  {
   "cell_type": "code",
   "execution_count": 31,
   "id": "f355d220-bf2c-40ff-ac55-0599ae8cae99",
   "metadata": {},
   "outputs": [],
   "source": [
    "# Load the dataset\n",
    "df = pd.read_csv(\"scouting_finetune_dataset3.csv\")\n",
    "val_df = df.sample(frac=0.1, random_state=42)\n",
    "\n",
    "# Prepare evaluation datasets\n",
    "references = []\n",
    "predictions = []"
   ]
  },
  {
   "cell_type": "code",
   "execution_count": 40,
   "id": "4f94c076-b462-4365-96d9-9137df95abd4",
   "metadata": {},
   "outputs": [
    {
     "name": "stderr",
     "output_type": "stream",
     "text": [
      "Downloading builder script: 100%|█████████████████████████████████████████████████| 5.94k/5.94k [00:00<00:00, 3.41MB/s]\n",
      "Downloading extra modules: 4.07kB [00:00, ?B/s]                                                                        \n",
      "Downloading extra modules: 100%|██████████████████████████████████████████████████████████| 3.34k/3.34k [00:00<?, ?B/s]\n",
      "Evaluating: 100%|████████████████████████████████████████████████████████████████| 1056/1056 [2:17:37<00:00,  7.82s/it]\n"
     ]
    }
   ],
   "source": [
    "# Compute ROUGE and BLEU\n",
    "rouge = evaluate.load(\"rouge\")\n",
    "bleu = evaluate.load(\"bleu\")\n",
    "\n",
    "# Evaluation loop\n",
    "for _, row in tqdm(val_df.iterrows(), total=len(val_df), desc=\"Evaluating\"):\n",
    "    input_text = \"generate report: \" + row[\"Input Text\"]\n",
    "    ref_text = row[\"Generated Report\"]\n",
    "\n",
    "    # Tokenize and generate\n",
    "    inputs = tokenizer(input_text, return_tensors=\"pt\", truncation=True, max_length=512).to(device)\n",
    "    with torch.no_grad():\n",
    "        output_ids = model.generate(**inputs, max_length=256)\n",
    "        pred_text = tokenizer.decode(output_ids[0], skip_special_tokens=True)\n",
    "\n",
    "    predictions.append(pred_text)\n",
    "    references.append(ref_text)\n",
    "\n",
    "rouge_result = rouge.compute(predictions=predictions, references=references, use_stemmer=True)\n",
    "bleu_result = bleu.compute(predictions=predictions, references=[[ref] for ref in references])"
   ]
  },
  {
   "cell_type": "code",
   "execution_count": 42,
   "id": "b967c446-7fbe-479b-bc71-44929ee28c78",
   "metadata": {},
   "outputs": [
    {
     "name": "stdout",
     "output_type": "stream",
     "text": [
      "\n",
      "Evaluation Results:\n",
      "ROUGE-1: 0.85\n",
      "ROUGE-2: 0.74\n",
      "ROUGE-L: 0.80\n",
      "BLEU: 0.76\n"
     ]
    }
   ],
   "source": [
    "# Show evaluation results\n",
    "print(\"\\nEvaluation Results:\")\n",
    "print(\"ROUGE-1:\", f\"{rouge_result['rouge1']:.2f}\")\n",
    "print(\"ROUGE-2:\", f\"{rouge_result['rouge2']:.2f}\")\n",
    "print(\"ROUGE-L:\", f\"{rouge_result['rougeL']:.2f}\")\n",
    "print(\"BLEU:\", f\"{bleu_result['bleu']:.2f}\")"
   ]
  },
  {
   "cell_type": "markdown",
   "id": "86eb1dc6-1a8a-4740-bfdf-b21cf91bb662",
   "metadata": {},
   "source": [
    "### Model Testing"
   ]
  },
  {
   "cell_type": "code",
   "execution_count": 3,
   "id": "d74014a9-87fa-487c-a995-17c217b49066",
   "metadata": {},
   "outputs": [
    {
     "name": "stderr",
     "output_type": "stream",
     "text": [
      "Special tokens have been added in the vocabulary, make sure the associated word embeddings are fine-tuned or trained.\n"
     ]
    }
   ],
   "source": [
    "# Load the dataset & fine-tuned model\n",
    "df = pd.read_csv(\"scouting_finetune_dataset3.csv\")\n",
    "\n",
    "model = T5ForConditionalGeneration.from_pretrained(\"t5-scouting-model\").to(device)\n",
    "tokenizer = T5Tokenizer.from_pretrained(\"t5-scouting-model\")"
   ]
  },
  {
   "cell_type": "code",
   "execution_count": 8,
   "id": "f2145562-d14a-4270-ab24-a80fde4f036b",
   "metadata": {},
   "outputs": [
    {
     "data": {
      "text/html": [
       "<div>\n",
       "<style scoped>\n",
       "    .dataframe tbody tr th:only-of-type {\n",
       "        vertical-align: middle;\n",
       "    }\n",
       "\n",
       "    .dataframe tbody tr th {\n",
       "        vertical-align: top;\n",
       "    }\n",
       "\n",
       "    .dataframe thead th {\n",
       "        text-align: right;\n",
       "    }\n",
       "</style>\n",
       "<table border=\"1\" class=\"dataframe\">\n",
       "  <thead>\n",
       "    <tr style=\"text-align: right;\">\n",
       "      <th></th>\n",
       "      <th>Input Text</th>\n",
       "      <th>Generated Report</th>\n",
       "    </tr>\n",
       "  </thead>\n",
       "  <tbody>\n",
       "    <tr>\n",
       "      <th>0</th>\n",
       "      <td>Name: Rodrigo Márquez; Position: AM RL; Age: 20; ca: 115; pa: 145; Corners: 10; Crossing: 11; Dribbling: 13; Finishing: 12; First Touch: 14; Free Kick Taking: 12; Heading: 12; Long Shots: 14; Long Throws: 10; Marking: 8; Passing: 13; Penalty Taking: 13; Tackling: 10; Technique: 11; Aggressiion: ...</td>\n",
       "      <td>Rodrigo Márquez is a young talent player that plays as attacker in the position AM RL who currently shows decent ability (CA: 115), with a potential ceiling of very good (PA: 145). He still has room to grow and could reach a higher level with the right development. Key strengths include: finishing rated decent, off the ball rated decent, first touch rated good, pace rated decent, composure rated good. Overall, he can be categorized as a promising player.</td>\n",
       "    </tr>\n",
       "  </tbody>\n",
       "</table>\n",
       "</div>"
      ],
      "text/plain": [
       "                                                                                                                                                                                                                                                                                                    Input Text  \\\n",
       "0  Name: Rodrigo Márquez; Position: AM RL; Age: 20; ca: 115; pa: 145; Corners: 10; Crossing: 11; Dribbling: 13; Finishing: 12; First Touch: 14; Free Kick Taking: 12; Heading: 12; Long Shots: 14; Long Throws: 10; Marking: 8; Passing: 13; Penalty Taking: 13; Tackling: 10; Technique: 11; Aggressiion: ...   \n",
       "\n",
       "                                                                                                                                                                                                                                                                                                                                                                                                                                                             Generated Report  \n",
       "0  Rodrigo Márquez is a young talent player that plays as attacker in the position AM RL who currently shows decent ability (CA: 115), with a potential ceiling of very good (PA: 145). He still has room to grow and could reach a higher level with the right development. Key strengths include: finishing rated decent, off the ball rated decent, first touch rated good, pace rated decent, composure rated good. Overall, he can be categorized as a promising player.  "
      ]
     },
     "metadata": {},
     "output_type": "display_data"
    }
   ],
   "source": [
    "# Randomly sample 1 row\n",
    "samples = df.sample(n=1)\n",
    "\n",
    "# Collect data\n",
    "results = []\n",
    "\n",
    "# Evaluation loop\n",
    "for _, row in samples.iterrows():\n",
    "    input_text = row[\"Input Text\"]\n",
    "    original_report = row[\"Generated Report\"]\n",
    "    \n",
    "    # Tokenize and generate\n",
    "    inputs = tokenizer(\"generate report: \" + input_text, return_tensors=\"pt\", truncation=True, max_length=512).to(device)\n",
    "    with torch.no_grad():\n",
    "        output_ids = model.generate(**inputs, max_length=256)\n",
    "        generated_report = tokenizer.decode(output_ids[0], skip_special_tokens=True)\n",
    "\n",
    "    # Append to result\n",
    "    results.append({\n",
    "        \"Input Text\": textwrap.shorten(input_text, width=300, placeholder=\" ...\"),\n",
    "        \"Generated Report\": generated_report\n",
    "    })\n",
    "\n",
    "# Visualize the results\n",
    "comparison_df = pd.DataFrame(results)\n",
    "pd.set_option('display.max_colwidth', None)\n",
    "display(comparison_df)"
   ]
  },
  {
   "cell_type": "code",
   "execution_count": 15,
   "id": "35e10d25-dc4d-4f59-8779-38d61368eb26",
   "metadata": {},
   "outputs": [
    {
     "data": {
      "text/html": [
       "<div>\n",
       "<style scoped>\n",
       "    .dataframe tbody tr th:only-of-type {\n",
       "        vertical-align: middle;\n",
       "    }\n",
       "\n",
       "    .dataframe tbody tr th {\n",
       "        vertical-align: top;\n",
       "    }\n",
       "\n",
       "    .dataframe thead th {\n",
       "        text-align: right;\n",
       "    }\n",
       "</style>\n",
       "<table border=\"1\" class=\"dataframe\">\n",
       "  <thead>\n",
       "    <tr style=\"text-align: right;\">\n",
       "      <th></th>\n",
       "      <th>Input Text</th>\n",
       "      <th>Generated Report</th>\n",
       "    </tr>\n",
       "  </thead>\n",
       "  <tbody>\n",
       "    <tr>\n",
       "      <th>0</th>\n",
       "      <td>Name: Youcef Belaïli; Position: M/AM L; Age: 30; ca: 136; pa: 145; Corners: 11; Crossing: 13; Dribbling: 15; Finishing: 13; First Touch: 15; Free Kick Taking: 12; Heading: 8; Long Shots: 14; Long Throws: 4; Marking: 7; Passing: 14; Penalty Taking: 12; Tackling: 7; Technique: 15; Aggressiion: 13; ...</td>\n",
       "      <td>Playing as a attacker in the position M/AM L, Youcef Belali is a veteran/experienced player showing good quality (CA: 136) and could reach good (PA: 145). He still has room to grow and could reach a higher level with the right development. Key strengths include: finishing rated decent, off the ball rated decent, first touch rated good, pace rated good, composure rated decent. Overall, he can be categorized as a squad contributor.</td>\n",
       "    </tr>\n",
       "  </tbody>\n",
       "</table>\n",
       "</div>"
      ],
      "text/plain": [
       "                                                                                                                                                                                                                                                                                                     Input Text  \\\n",
       "0  Name: Youcef Belaïli; Position: M/AM L; Age: 30; ca: 136; pa: 145; Corners: 11; Crossing: 13; Dribbling: 15; Finishing: 13; First Touch: 15; Free Kick Taking: 12; Heading: 8; Long Shots: 14; Long Throws: 4; Marking: 7; Passing: 14; Penalty Taking: 12; Tackling: 7; Technique: 15; Aggressiion: 13; ...   \n",
       "\n",
       "                                                                                                                                                                                                                                                                                                                                                                                                                                    Generated Report  \n",
       "0  Playing as a attacker in the position M/AM L, Youcef Belali is a veteran/experienced player showing good quality (CA: 136) and could reach good (PA: 145). He still has room to grow and could reach a higher level with the right development. Key strengths include: finishing rated decent, off the ball rated decent, first touch rated good, pace rated good, composure rated decent. Overall, he can be categorized as a squad contributor.  "
      ]
     },
     "metadata": {},
     "output_type": "display_data"
    }
   ],
   "source": [
    "# Randomly sample 1 row\n",
    "samples = df.sample(n=1)\n",
    "\n",
    "# Collect data\n",
    "results = []\n",
    "\n",
    "# Evaluation loop\n",
    "for _, row in samples.iterrows():\n",
    "    input_text = row[\"Input Text\"]\n",
    "    original_report = row[\"Generated Report\"]\n",
    "    \n",
    "    # Tokenize and generate\n",
    "    inputs = tokenizer(\"generate report: \" + input_text, return_tensors=\"pt\", truncation=True, max_length=512).to(device)\n",
    "    with torch.no_grad():\n",
    "        output_ids = model.generate(**inputs, max_length=256)\n",
    "        generated_report = tokenizer.decode(output_ids[0], skip_special_tokens=True)\n",
    "\n",
    "    # Append to result\n",
    "    results.append({\n",
    "        \"Input Text\": textwrap.shorten(input_text, width=300, placeholder=\" ...\"),\n",
    "        \"Generated Report\": generated_report\n",
    "    })\n",
    "\n",
    "# Visualize the results\n",
    "comparison_df = pd.DataFrame(results)\n",
    "pd.set_option('display.max_colwidth', None)\n",
    "display(comparison_df)"
   ]
  },
  {
   "cell_type": "code",
   "execution_count": 34,
   "id": "08e465fe-7c57-4a28-a27a-88418afa85ef",
   "metadata": {},
   "outputs": [
    {
     "data": {
      "text/html": [
       "<div>\n",
       "<style scoped>\n",
       "    .dataframe tbody tr th:only-of-type {\n",
       "        vertical-align: middle;\n",
       "    }\n",
       "\n",
       "    .dataframe tbody tr th {\n",
       "        vertical-align: top;\n",
       "    }\n",
       "\n",
       "    .dataframe thead th {\n",
       "        text-align: right;\n",
       "    }\n",
       "</style>\n",
       "<table border=\"1\" class=\"dataframe\">\n",
       "  <thead>\n",
       "    <tr style=\"text-align: right;\">\n",
       "      <th></th>\n",
       "      <th>Input Text</th>\n",
       "      <th>Generated Report</th>\n",
       "    </tr>\n",
       "  </thead>\n",
       "  <tbody>\n",
       "    <tr>\n",
       "      <th>0</th>\n",
       "      <td>Name: Carlos Alcaraz; Position: M/AM C; Age: 19; ca: 120; pa: 155; Corners: 12; Crossing: 11; Dribbling: 13; Finishing: 13; First Touch: 14; Free Kick Taking: 12; Heading: 7; Long Shots: 12; Long Throws: 9; Marking: 10; Passing: 14; Penalty Taking: 7; Tackling: 9; Technique: 14; Aggressiion: 6; ...</td>\n",
       "      <td>Carlos Alcaraz, aged 19, features as a attacker (M/AM C). Currently rated good (CA: 120), he may develop into a good (PA: 155) level player. While there's some room between his current and potential ability, his age suggests limited upside. Key strengths include: finishing rated decent, off the ball rated good, first touch rated good, pace rated decent, composure rated poor. Overall, he can be categorized as a squad contributor.</td>\n",
       "    </tr>\n",
       "  </tbody>\n",
       "</table>\n",
       "</div>"
      ],
      "text/plain": [
       "                                                                                                                                                                                                                                                                                                    Input Text  \\\n",
       "0  Name: Carlos Alcaraz; Position: M/AM C; Age: 19; ca: 120; pa: 155; Corners: 12; Crossing: 11; Dribbling: 13; Finishing: 13; First Touch: 14; Free Kick Taking: 12; Heading: 7; Long Shots: 12; Long Throws: 9; Marking: 10; Passing: 14; Penalty Taking: 7; Tackling: 9; Technique: 14; Aggressiion: 6; ...   \n",
       "\n",
       "                                                                                                                                                                                                                                                                                                                                                                                                                                   Generated Report  \n",
       "0  Carlos Alcaraz, aged 19, features as a attacker (M/AM C). Currently rated good (CA: 120), he may develop into a good (PA: 155) level player. While there's some room between his current and potential ability, his age suggests limited upside. Key strengths include: finishing rated decent, off the ball rated good, first touch rated good, pace rated decent, composure rated poor. Overall, he can be categorized as a squad contributor.  "
      ]
     },
     "metadata": {},
     "output_type": "display_data"
    }
   ],
   "source": [
    "# Randomly sample 1 row\n",
    "samples = df.sample(n=1)\n",
    "\n",
    "# Collect data\n",
    "results = []\n",
    "\n",
    "# Evaluation loop\n",
    "for _, row in samples.iterrows():\n",
    "    input_text = row[\"Input Text\"]\n",
    "    original_report = row[\"Generated Report\"]\n",
    "    \n",
    "    # Tokenize and generate\n",
    "    inputs = tokenizer(\"generate report: \" + input_text, return_tensors=\"pt\", truncation=True, max_length=512).to(device)\n",
    "    with torch.no_grad():\n",
    "        output_ids = model.generate(**inputs, max_length=256)\n",
    "        generated_report = tokenizer.decode(output_ids[0], skip_special_tokens=True)\n",
    "\n",
    "    # Append to result\n",
    "    results.append({\n",
    "        \"Input Text\": textwrap.shorten(input_text, width=300, placeholder=\" ...\"),\n",
    "        \"Generated Report\": generated_report\n",
    "    })\n",
    "\n",
    "# Visualize the results\n",
    "comparison_df = pd.DataFrame(results)\n",
    "pd.set_option('display.max_colwidth', None)\n",
    "display(comparison_df)"
   ]
  },
  {
   "cell_type": "code",
   "execution_count": null,
   "id": "6c020509-a964-41c9-b07d-0e0bdbdb4018",
   "metadata": {},
   "outputs": [],
   "source": []
  }
 ],
 "metadata": {
  "kernelspec": {
   "display_name": "Python (gpuenv CUDA)",
   "language": "python",
   "name": "gpuenv"
  },
  "language_info": {
   "codemirror_mode": {
    "name": "ipython",
    "version": 3
   },
   "file_extension": ".py",
   "mimetype": "text/x-python",
   "name": "python",
   "nbconvert_exporter": "python",
   "pygments_lexer": "ipython3",
   "version": "3.10.18"
  }
 },
 "nbformat": 4,
 "nbformat_minor": 5
}
